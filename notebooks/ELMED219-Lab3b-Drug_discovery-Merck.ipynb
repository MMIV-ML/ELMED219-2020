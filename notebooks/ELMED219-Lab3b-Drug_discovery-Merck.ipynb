{
 "cells": [
  {
   "cell_type": "markdown",
   "metadata": {},
   "source": [
    "A.S. Lundervold, 16.01.2020."
   ]
  },
  {
   "cell_type": "markdown",
   "metadata": {},
   "source": [
    "# Introduksjon"
   ]
  },
  {
   "cell_type": "markdown",
   "metadata": {},
   "source": [
    "Som diskutert i introduksjonen til Lab 3 er *virtual screening* og analyse av molekylers *affinitet* til et target, basert på deres molekylære beskrivelser (fingerprint), en sentral del av **drug discovery**. \n",
    "\n",
    "Dette kalles ofte **QSAR**: Quantitative Structure-Activity Relationship.\n",
    "\n",
    "Vi ser på et eksempel.\n"
   ]
  },
  {
   "cell_type": "markdown",
   "metadata": {},
   "source": [
    "# Setup"
   ]
  },
  {
   "cell_type": "code",
   "execution_count": null,
   "metadata": {},
   "outputs": [],
   "source": [
    "%matplotlib inline\n",
    "import numpy as np\n",
    "import pandas as pd\n",
    "import matplotlib.pyplot as plt\n",
    "import sklearn\n",
    "from pathlib import Path"
   ]
  },
  {
   "cell_type": "markdown",
   "metadata": {},
   "source": [
    "# Data"
   ]
  },
  {
   "cell_type": "markdown",
   "metadata": {},
   "source": [
    "Vi bruker et (utvalg av) et datasett fra en konkurranse på Kaggle organisert av Merck i 2013. (Om du er interessert kan du laste ned hele datasettet fra https://www.kaggle.com/c/MerckActivity.) "
   ]
  },
  {
   "cell_type": "markdown",
   "metadata": {},
   "source": [
    "> Help enable the development of safe, effective medicines.\n",
    "\n",
    "> When developing new medicines it is important to identify molecules that are highly active toward their intended targets but not toward other targets that might cause side effects. The objective of this competition is to identify the best statistical techniques for predicting biological activities of different molecules, both on- and off-target, given numerical descriptors generated from their chemical structures.\n",
    "\n",
    "> The challenge is based on 15 molecular activity data sets, each for a biologically relevant target. Each row corresponds to a molecule and **contains descriptors derived from that molecule's chemical structure** [\"fingerprints\"]."
   ]
  },
  {
   "cell_type": "markdown",
   "metadata": {},
   "source": [
    "Vårt datasett består av et av de femten settene fra MerckActivity. "
   ]
  },
  {
   "cell_type": "markdown",
   "metadata": {},
   "source": [
    "> Merk at dette er et **regresjonsproblem**: vi ønsker ikke å predikere en *klasse*, slik vi har gjort tidligere, men en **kontinuerlig verdi**. Vi må derfor forholde oss til litt andre modeller, og spesielt også andre teknikker for å evaluere våre resultater. "
   ]
  },
  {
   "cell_type": "markdown",
   "metadata": {},
   "source": [
    "# Last inn og se på data"
   ]
  },
  {
   "cell_type": "markdown",
   "metadata": {},
   "source": [
    "Vi har plassert datasettet i katalogen `../data/drug`:"
   ]
  },
  {
   "cell_type": "code",
   "execution_count": null,
   "metadata": {},
   "outputs": [],
   "source": [
    "DATA = Path('../data/drug')"
   ]
  },
  {
   "cell_type": "code",
   "execution_count": null,
   "metadata": {},
   "outputs": [],
   "source": [
    "act = pd.read_csv(DATA/\"ACT15_competition_training.csv\")"
   ]
  },
  {
   "cell_type": "code",
   "execution_count": null,
   "metadata": {},
   "outputs": [],
   "source": [
    "act.info()"
   ]
  },
  {
   "cell_type": "markdown",
   "metadata": {},
   "source": [
    "Hver rad tilhører ett molekyl, og består av 5552 features (descriptors / fingerprint) av molekylet samt dets aktivitet med hensyn på target. Se `ELMED219-Lab3-Drug_discovery-RDKit.ipynb` for en gjennomgang av hvordan slike fingerprints kan genereres."
   ]
  },
  {
   "cell_type": "code",
   "execution_count": null,
   "metadata": {},
   "outputs": [],
   "source": [
    "act.head()"
   ]
  },
  {
   "cell_type": "markdown",
   "metadata": {},
   "source": [
    "Som vanlig lager vi en X (features / fingerprints) og y (det vi ønsker å predikere):"
   ]
  },
  {
   "cell_type": "code",
   "execution_count": null,
   "metadata": {},
   "outputs": [],
   "source": [
    "X = act.drop([\"MOLECULE\", \"Act\"], axis=1)\n",
    "y = act['Act']"
   ]
  },
  {
   "cell_type": "markdown",
   "metadata": {},
   "source": [
    "## Plots"
   ]
  },
  {
   "cell_type": "markdown",
   "metadata": {},
   "source": [
    "Hva er fordelingen til aktivitetsmålene?"
   ]
  },
  {
   "cell_type": "code",
   "execution_count": null,
   "metadata": {},
   "outputs": [],
   "source": [
    "y.hist()\n",
    "plt.show()"
   ]
  },
  {
   "cell_type": "markdown",
   "metadata": {},
   "source": [
    "Det er interessant å se på fordelingen av verdiene i de ulike søylene. Siden det er såpass mange velger vi oss ut et tilfeldig utvalg for plotting:"
   ]
  },
  {
   "cell_type": "code",
   "execution_count": null,
   "metadata": {},
   "outputs": [],
   "source": [
    "import random"
   ]
  },
  {
   "cell_type": "code",
   "execution_count": null,
   "metadata": {},
   "outputs": [],
   "source": [
    "# Hver gang denne cellen kjøres plukkes det ut 9 features tilfeldig.\n",
    "# Du må gjerne forsøke flere ganger\n",
    "\n",
    "features = random.choices(X.columns, k=9)\n",
    "fig, ax = plt.subplots(figsize=(12,12))\n",
    "X[features].hist(ax=ax)\n",
    "plt.show()"
   ]
  },
  {
   "cell_type": "markdown",
   "metadata": {},
   "source": [
    "Det kan se ut som at deskriptorene stort sett er 0 for alle molekyler, med relativt få unntak. Dette er normalt for fingerprinting.  "
   ]
  },
  {
   "cell_type": "markdown",
   "metadata": {},
   "source": [
    "# Feature engineering"
   ]
  },
  {
   "cell_type": "markdown",
   "metadata": {},
   "source": [
    "I denne oppgaven er det mye å hente på å studere features nærmere. Vi skal ikke gå dypt inn i dette, bortsett fra at vi dropper features som har samme eller nesten samme verdi for alle molekyler, og dermed har liten forklaringsverdi."
   ]
  },
  {
   "cell_type": "markdown",
   "metadata": {},
   "source": [
    "Vi kan fjerne alle features der den nest mest vanlige verdien er svært sjelden:"
   ]
  },
  {
   "cell_type": "code",
   "execution_count": null,
   "metadata": {},
   "outputs": [],
   "source": [
    "def get_two_most_frequent(X, feature):\n",
    "    \"\"\"\n",
    "    Function to grab the two most frequent values for the feature.\n",
    "    Returns 0 for the second most common if the feature is constant.\n",
    "    \"\"\"\n",
    "    \n",
    "    try:\n",
    "        first = X[feature].value_counts().iloc[0]\n",
    "        second = X[feature].value_counts().iloc[1]\n",
    "        return first, second\n",
    "    except:\n",
    "        return first, 0"
   ]
  },
  {
   "cell_type": "code",
   "execution_count": null,
   "metadata": {},
   "outputs": [],
   "source": [
    "# Vi kan selv velge threshold:\n",
    "threshold = 30\n",
    "\n",
    "# Vi velger en faktor slik at features droppes dersom den mest vanlige \n",
    "# verdien er såpass mange ganger høyere enn threshold\n",
    "\n",
    "factor = 10\n",
    "\n",
    "to_drop = []\n",
    "\n",
    "for feature in X.columns:\n",
    "    first, second = get_two_most_frequent(X, feature)\n",
    "    if (first > factor*threshold) and (second < threshold):\n",
    "        to_drop.append(feature)\n"
   ]
  },
  {
   "cell_type": "code",
   "execution_count": null,
   "metadata": {},
   "outputs": [],
   "source": [
    "len(to_drop), to_drop[:10]"
   ]
  },
  {
   "cell_type": "markdown",
   "metadata": {},
   "source": [
    "Vi dropper så alle disse:"
   ]
  },
  {
   "cell_type": "code",
   "execution_count": null,
   "metadata": {},
   "outputs": [],
   "source": [
    "X = X.drop(columns=to_drop)"
   ]
  },
  {
   "cell_type": "markdown",
   "metadata": {},
   "source": [
    "Nå er datasettet noe mer håndterlig:"
   ]
  },
  {
   "cell_type": "code",
   "execution_count": null,
   "metadata": {},
   "outputs": [],
   "source": [
    "X.info()"
   ]
  },
  {
   "cell_type": "markdown",
   "metadata": {},
   "source": [
    "# Train-test-split"
   ]
  },
  {
   "cell_type": "markdown",
   "metadata": {},
   "source": [
    "> NB: Erfaringen til deltakerne i Kaggle-konkurransen var at hvordan en splittet ut sitt valideringssett hadde stor innflytelse på hvor godt ytelsen på dette samsvarte med ytelsen på test-settet til Kaggle. "
   ]
  },
  {
   "cell_type": "markdown",
   "metadata": {},
   "source": [
    "Vi velger her å overse dette og bruke en enkel, random split av data, der 25% brukes som test-data:"
   ]
  },
  {
   "cell_type": "code",
   "execution_count": null,
   "metadata": {},
   "outputs": [],
   "source": [
    "from sklearn.model_selection import train_test_split"
   ]
  },
  {
   "cell_type": "code",
   "execution_count": null,
   "metadata": {},
   "outputs": [],
   "source": [
    "X_train, X_test, y_train, y_test = train_test_split(X, y, test_size=0.25, random_state=42)"
   ]
  },
  {
   "cell_type": "markdown",
   "metadata": {},
   "source": [
    "# Modell"
   ]
  },
  {
   "cell_type": "markdown",
   "metadata": {},
   "source": [
    "Som vanlig bruker vi en random forest, denne gangen for regresjon:"
   ]
  },
  {
   "cell_type": "code",
   "execution_count": null,
   "metadata": {},
   "outputs": [],
   "source": [
    "from sklearn.ensemble import RandomForestRegressor"
   ]
  },
  {
   "cell_type": "code",
   "execution_count": null,
   "metadata": {},
   "outputs": [],
   "source": [
    "rf = RandomForestRegressor(n_estimators=100, n_jobs=-1, random_state=42)"
   ]
  },
  {
   "cell_type": "code",
   "execution_count": null,
   "metadata": {},
   "outputs": [],
   "source": [
    "rf.fit(X_train, y_train)"
   ]
  },
  {
   "cell_type": "markdown",
   "metadata": {},
   "source": [
    "Vår modell er trent og vi kan finne dens prediksjoner på testdata:"
   ]
  },
  {
   "cell_type": "code",
   "execution_count": null,
   "metadata": {},
   "outputs": [],
   "source": [
    "y_pred = rf.predict(X_test)"
   ]
  },
  {
   "cell_type": "markdown",
   "metadata": {},
   "source": [
    "# Evaluering"
   ]
  },
  {
   "cell_type": "markdown",
   "metadata": {},
   "source": [
    "Her er de første 10 fasitsvar og tilhørende prediksjoner:"
   ]
  },
  {
   "cell_type": "code",
   "execution_count": null,
   "metadata": {},
   "outputs": [],
   "source": [
    "list(zip(y_test, y_pred))[:10]"
   ]
  },
  {
   "cell_type": "markdown",
   "metadata": {},
   "source": [
    "Med `.score` på en random forest regressor beregnes såkalt $R^2$ score. Se https://en.wikipedia.org/wiki/Coefficient_of_determination. Den beste mulige scoren er 1.0."
   ]
  },
  {
   "cell_type": "code",
   "execution_count": null,
   "metadata": {},
   "outputs": [],
   "source": [
    "rf.score(X_test, y_test)"
   ]
  },
  {
   "cell_type": "markdown",
   "metadata": {},
   "source": [
    "Vi kan velge andre mål for å evaluere regressoren. Her er to mye brukte mål i regresjon:"
   ]
  },
  {
   "cell_type": "code",
   "execution_count": null,
   "metadata": {},
   "outputs": [],
   "source": [
    "from sklearn.metrics import mean_squared_error, mean_absolute_error"
   ]
  },
  {
   "cell_type": "code",
   "execution_count": null,
   "metadata": {},
   "outputs": [],
   "source": [
    "mean_absolute_error(y_test, y_pred)"
   ]
  },
  {
   "cell_type": "code",
   "execution_count": null,
   "metadata": {},
   "outputs": [],
   "source": [
    "mean_squared_error(y_test, y_pred)"
   ]
  },
  {
   "cell_type": "markdown",
   "metadata": {},
   "source": [
    "## Plots"
   ]
  },
  {
   "cell_type": "markdown",
   "metadata": {},
   "source": [
    "Det er også nyttig å plotte prediksjonene versus de korrekte verdiene i et scatter plot. \n",
    "\n",
    "Her er en funksjon for å oppnå dette, som også legger til en regresjonslinje:"
   ]
  },
  {
   "cell_type": "code",
   "execution_count": null,
   "metadata": {},
   "outputs": [],
   "source": [
    "import seaborn as sns\n",
    "from sklearn.metrics import r2_score\n",
    "def evaluate(y_test, y_pred):\n",
    "    print(f\"R2 score er: {r2_score(y_test, y_pred).round(3)}\")\n",
    "    print(f\"Mean absolute error er: {mean_absolute_error(y_test, y_pred).round(3)}\")\n",
    "    print(f\"Mean squared error er: {mean_squared_error(y_test, y_pred).round(3)}\")\n",
    "    \n",
    "    plt.figure(figsize=(12,8))\n",
    "    sns.regplot(x=y_test, y=y_pred, line_kws={\"color\":\"g\",\"lw\":3}, ci=0)\n",
    "    plt.show()  "
   ]
  },
  {
   "cell_type": "code",
   "execution_count": null,
   "metadata": {},
   "outputs": [],
   "source": [
    "evaluate(y_test, y_pred)"
   ]
  },
  {
   "cell_type": "markdown",
   "metadata": {},
   "source": [
    "Vi ser visuelt at modellen har plukket opp noen sammenhenger og er i stand til å stort sett predikere rimelige verdier for `Activity`."
   ]
  },
  {
   "cell_type": "markdown",
   "metadata": {},
   "source": [
    "# Fintuning av modellen"
   ]
  },
  {
   "cell_type": "markdown",
   "metadata": {},
   "source": [
    "Som diskutert tidligere kan vi fin-tune modeller ved å søke etter gode hyperparametre. La oss forsøke."
   ]
  },
  {
   "cell_type": "code",
   "execution_count": null,
   "metadata": {},
   "outputs": [],
   "source": [
    "from sklearn.model_selection import GridSearchCV"
   ]
  },
  {
   "cell_type": "code",
   "execution_count": null,
   "metadata": {},
   "outputs": [],
   "source": [
    "rf = RandomForestRegressor(n_estimators=100, n_jobs=-1, random_state=42)"
   ]
  },
  {
   "cell_type": "code",
   "execution_count": null,
   "metadata": {},
   "outputs": [],
   "source": [
    "param_grid = {\n",
    "    'max_depth': [7, None],\n",
    "    'min_samples_leaf': [1, 2],\n",
    "    'n_estimators': [100, 500]\n",
    "}"
   ]
  },
  {
   "cell_type": "code",
   "execution_count": null,
   "metadata": {},
   "outputs": [],
   "source": [
    "gs = GridSearchCV(rf, param_grid=param_grid, cv=3, n_jobs=-1)"
   ]
  },
  {
   "cell_type": "code",
   "execution_count": null,
   "metadata": {},
   "outputs": [],
   "source": [
    "# OBS: Ikke kjør koden i denne cellen med mindre du har god tid. \n",
    "# Se nedenfor for en snarvei.\n",
    "\n",
    "#gs.fit(X_train, y_train)\n",
    "\n",
    "# Her er den beste modellen vi fant i søket:\n",
    "#model = gs.best_estimator_"
   ]
  },
  {
   "cell_type": "code",
   "execution_count": null,
   "metadata": {},
   "outputs": [],
   "source": [
    "#model"
   ]
  },
  {
   "cell_type": "markdown",
   "metadata": {},
   "source": [
    "**OBS:** Kjør følgende kode istedenfor cellene over for å spare tid. Her laster vi inn den beste modellen funnet via søket."
   ]
  },
  {
   "cell_type": "code",
   "execution_count": null,
   "metadata": {},
   "outputs": [],
   "source": [
    "import pickle\n",
    "#pickle.dump(model, open('grid_search-drug-model', 'wb'))\n",
    "model = pickle.load(open('grid_search-drug-model', 'rb'))"
   ]
  },
  {
   "cell_type": "markdown",
   "metadata": {},
   "source": [
    "Vi ser at parametrene til denne er litt forskjellige fra de til modellen vi brukte tidligere:"
   ]
  },
  {
   "cell_type": "code",
   "execution_count": null,
   "metadata": {},
   "outputs": [],
   "source": [
    "model"
   ]
  },
  {
   "cell_type": "markdown",
   "metadata": {},
   "source": [
    "Hvor god er denne modellen?"
   ]
  },
  {
   "cell_type": "code",
   "execution_count": null,
   "metadata": {},
   "outputs": [],
   "source": [
    "y_pred = model.predict(X_test)\n",
    "\n",
    "evaluate(y_test, y_pred)"
   ]
  },
  {
   "cell_type": "code",
   "execution_count": null,
   "metadata": {},
   "outputs": [],
   "source": [
    "model.score(X_test, y_test)"
   ]
  },
  {
   "cell_type": "markdown",
   "metadata": {},
   "source": [
    "Modellen er altså ørlitte grann bedre enn vår første. "
   ]
  },
  {
   "cell_type": "markdown",
   "metadata": {},
   "source": [
    "# Feature importance"
   ]
  },
  {
   "cell_type": "markdown",
   "metadata": {},
   "source": [
    "Som vanlig er det interessant å se på _feature importance_"
   ]
  },
  {
   "cell_type": "code",
   "execution_count": null,
   "metadata": {},
   "outputs": [],
   "source": [
    "importances = model.feature_importances_\n",
    "\n",
    "# Finn indeks til features med høyest importance\n",
    "# sortert fra størst til minst: \n",
    "indices = np.argsort(importances)[::-1]\n",
    "\n",
    "for f in range(10): \n",
    "    print(f'{X.columns[indices[f]]}: {np.round(importances[indices[f]],2)}')"
   ]
  },
  {
   "cell_type": "markdown",
   "metadata": {},
   "source": [
    "# Permutation importance"
   ]
  },
  {
   "cell_type": "markdown",
   "metadata": {},
   "source": [
    "...og, siden vi vet at feature importance er ustabilt, også på _permutation importance_."
   ]
  },
  {
   "cell_type": "markdown",
   "metadata": {},
   "source": [
    "> På grunn av det store antall features vil dette ta *veldig* lang tid. Jeg har derfor kommentert bort selve kjøringen av permutation importance nedenfor.. Se output i bildet nederst. "
   ]
  },
  {
   "cell_type": "code",
   "execution_count": null,
   "metadata": {},
   "outputs": [],
   "source": [
    "import eli5\n",
    "from eli5.sklearn import PermutationImportance\n",
    "\n",
    "perm = PermutationImportance(model, random_state=42).fit(X_test, y_test)"
   ]
  },
  {
   "cell_type": "code",
   "execution_count": null,
   "metadata": {},
   "outputs": [],
   "source": [
    "eli5.show_weights(perm, feature_names = X_test.columns.tolist())"
   ]
  },
  {
   "cell_type": "code",
   "execution_count": null,
   "metadata": {},
   "outputs": [],
   "source": [
    "eli5.show_weights(perm, feature_names = X_test.columns.tolist())"
   ]
  },
  {
   "cell_type": "markdown",
   "metadata": {},
   "source": [
    "Her er resultatet:\n",
    "\n",
    "<img width=35% src=\"assets/perm_importance_drug_gridsearch.png\">"
   ]
  },
  {
   "cell_type": "markdown",
   "metadata": {},
   "source": [
    "Det er ikke vanskelig å tenke seg at denne informasjonen er veldig verdifull, gitt at en har en god modell og en vet hva \"D_7656\" og \"D_5790\" sier om den kjemiske forbindelsen."
   ]
  },
  {
   "cell_type": "markdown",
   "metadata": {},
   "source": [
    "# Ekstra: PCA"
   ]
  },
  {
   "cell_type": "markdown",
   "metadata": {},
   "source": [
    "En nyttig teknikk når en arbeider med et datasett med et stort antall features er å bruke _dimensjonalitetsreduksjons-teknikker_. Én slik er såkalt _prinicipal component analysis_ (PCA)."
   ]
  },
  {
   "cell_type": "markdown",
   "metadata": {},
   "source": [
    "En ulempe med PCA er at vi har mister den direkte koblingen til orginalfeatures. Dersom en er interessert i å _forstå_ modellens prediksjoner er dette en stor ulempe. Men om vi kun er interessert i prediksjonsytelse kan dette være en fordel: med færre features kan vi f.eks. søke etter bedre hyperparametre. "
   ]
  },
  {
   "cell_type": "code",
   "execution_count": null,
   "metadata": {},
   "outputs": [],
   "source": [
    "from sklearn.decomposition import PCA"
   ]
  },
  {
   "cell_type": "code",
   "execution_count": null,
   "metadata": {},
   "outputs": [],
   "source": [
    "n_components = 100\n",
    "#n_components = 'mle' # 'mle' gir oss et automatisk estimat på hvor mange features som behøves"
   ]
  },
  {
   "cell_type": "code",
   "execution_count": null,
   "metadata": {},
   "outputs": [],
   "source": [
    "pca = PCA(n_components=n_components) \n",
    "X_train_pca = pca.fit_transform(X_train)\n",
    "X_test_pca = pca.transform(X_test)"
   ]
  },
  {
   "cell_type": "markdown",
   "metadata": {},
   "source": [
    "Nå har vi mye færre features å jobbe med:"
   ]
  },
  {
   "cell_type": "code",
   "execution_count": null,
   "metadata": {},
   "outputs": [],
   "source": [
    "# Før\n",
    "X_train.shape"
   ]
  },
  {
   "cell_type": "code",
   "execution_count": null,
   "metadata": {},
   "outputs": [],
   "source": [
    "# Nå\n",
    "X_train_pca.shape"
   ]
  },
  {
   "cell_type": "markdown",
   "metadata": {},
   "source": [
    "Vi kan så søke gjennom et større grid for å finne gode hyperparametre for en random forest:"
   ]
  },
  {
   "cell_type": "code",
   "execution_count": null,
   "metadata": {},
   "outputs": [],
   "source": [
    "rf = RandomForestRegressor(n_jobs=-1, random_state=42)"
   ]
  },
  {
   "cell_type": "code",
   "execution_count": null,
   "metadata": {},
   "outputs": [],
   "source": [
    "param_grid = {\n",
    "    'max_depth': [7, 50, None],\n",
    "    'min_samples_leaf': [1, 2],\n",
    "    'n_estimators': [300, 500, 600]\n",
    "}"
   ]
  },
  {
   "cell_type": "code",
   "execution_count": null,
   "metadata": {},
   "outputs": [],
   "source": [
    "gs_pca = GridSearchCV(rf, param_grid=param_grid, cv=3)"
   ]
  },
  {
   "cell_type": "code",
   "execution_count": null,
   "metadata": {},
   "outputs": [],
   "source": [
    "gs_pca.fit(X_train_pca, y_train)\n",
    "\n",
    "# Her er den beste modellen vi fant i søket:\n",
    "model_pca = gs_pca.best_estimator_"
   ]
  },
  {
   "cell_type": "code",
   "execution_count": null,
   "metadata": {},
   "outputs": [],
   "source": [
    "model_pca"
   ]
  },
  {
   "cell_type": "markdown",
   "metadata": {},
   "source": [
    "Hvor godt gjør den det? "
   ]
  },
  {
   "cell_type": "code",
   "execution_count": null,
   "metadata": {},
   "outputs": [],
   "source": [
    "y_pred_pca = model_pca.predict(X_test_pca)\n",
    "\n",
    "evaluate(y_test, y_pred_pca)"
   ]
  },
  {
   "cell_type": "markdown",
   "metadata": {},
   "source": [
    "På høyde med modellen basert på mye flere features!"
   ]
  }
 ],
 "metadata": {
  "kernelspec": {
   "display_name": "ELMED219",
   "language": "python",
   "name": "elmed219"
  },
  "language_info": {
   "codemirror_mode": {
    "name": "ipython",
    "version": 3
   },
   "file_extension": ".py",
   "mimetype": "text/x-python",
   "name": "python",
   "nbconvert_exporter": "python",
   "pygments_lexer": "ipython3",
   "version": "3.7.6"
  },
  "toc": {
   "base_numbering": 1,
   "nav_menu": {},
   "number_sections": true,
   "sideBar": true,
   "skip_h1_title": false,
   "title_cell": "Table of Contents",
   "title_sidebar": "Contents",
   "toc_cell": false,
   "toc_position": {},
   "toc_section_display": true,
   "toc_window_display": false
  }
 },
 "nbformat": 4,
 "nbformat_minor": 4
}
