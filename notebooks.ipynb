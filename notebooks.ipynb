{
 "cells": [
  {
   "cell_type": "markdown",
   "metadata": {
    "toc": true
   },
   "source": [
    "<h1>Table of Contents<span class=\"tocSkip\"></span></h1>\n",
    "<div class=\"toc\"><ul class=\"toc-item\"><li><span><a href=\"#Notebooks-fra-ELMED219,-2020\" data-toc-modified-id=\"Notebooks-fra-ELMED219,-2020-1\"><span class=\"toc-item-num\">1&nbsp;&nbsp;</span>Notebooks fra ELMED219, 2020</a></span><ul class=\"toc-item\"><li><span><a href=\"#Lab-0:-En-hands-on-intro-til-maskinlæring\" data-toc-modified-id=\"Lab-0:-En-hands-on-intro-til-maskinlæring-1.1\"><span class=\"toc-item-num\">1.1&nbsp;&nbsp;</span>Lab 0: En hands-on-intro til maskinlæring</a></span></li><li><span><a href=\"#Lab-1:-Journaler-og-maskinlæring\" data-toc-modified-id=\"Lab-1:-Journaler-og-maskinlæring-1.2\"><span class=\"toc-item-num\">1.2&nbsp;&nbsp;</span>Lab 1: Journaler og maskinlæring</a></span></li><li><span><a href=\"#Lab-2:-Sensorer:-fra-smarttelefon-til-MRI\" data-toc-modified-id=\"Lab-2:-Sensorer:-fra-smarttelefon-til-MRI-1.3\"><span class=\"toc-item-num\">1.3&nbsp;&nbsp;</span>Lab 2: Sensorer: fra smarttelefon til MRI</a></span></li><li><span><a href=\"#Lab-3:-Drug-discovery\" data-toc-modified-id=\"Lab-3:-Drug-discovery-2\"><span class=\"toc-item-num\">1.4&nbsp;&nbsp;</span>Lab 3: Drug discovery</a></span></li><li><span><a href=\"#Ekstramateriale\" data-toc-modified-id=\"Ekstramateriale-3\"><span class=\"toc-item-num\">1.5&nbsp;&nbsp;</span>Ekstramateriale</a></span></li></ul></ul></div>"
   ]
  },
  {
   "cell_type": "markdown",
   "metadata": {},
   "source": [
    "# Notebooks fra ELMED219, 2020"
   ]
  },
  {
   "cell_type": "markdown",
   "metadata": {},
   "source": [
    "Her er en liste av alle notebooks i kursets GitHub-repositorium. **Listen vil oppdateres i løpet av kurset.**\n",
    "\n",
    "Se [GitHub-repositoriet](https://github.com/MMIV-ML/ELMED219-2020) eller kursets [MittUiB-side](https://mitt.uib.no/courses/21357) for mer informasjon."
   ]
  },
  {
   "cell_type": "markdown",
   "metadata": {},
   "source": [
    "## Lab 0: En hands-on-intro til maskinlæring"
   ]
  },
  {
   "cell_type": "markdown",
   "metadata": {},
   "source": [
    "* [ELMED219-Lab0-Enkle_eksempler](notebooks/ELMED219-Lab0-Enkle_eksempler.ipynb)"
   ]
  },
  {
   "cell_type": "markdown",
   "metadata": {},
   "source": [
    "## Lab 1: Journaler og maskinlæring"
   ]
  },
  {
   "cell_type": "markdown",
   "metadata": {},
   "source": [
    "* [ELMED219-Lab1-Liggetid](notebooks/ELMED219-Lab1-Liggetid.ipynb)"
   ]
  },
  {
   "cell_type": "markdown",
   "metadata": {},
   "source": [
    "## Lab 2: Sensorer: fra smarttelefon til MRI"
   ]
  },
  {
   "cell_type": "markdown",
   "metadata": {},
   "source": [
    "* [ELMED219-Lab2-Del1-Sensorer](notebooks/ELMED219-Lab2-Del1-Sensorer.ipynb)\n",
    "* [ELMED219-Lab2-Del2a-MRI-Bildeinnlesning](notebooks/ELMED219-Lab2-Del2a-MRI-Bildeinnlesning.ipynb)\n",
    "* [ELMED219-Lab2-Del2b-MRI-Multispektral](notebooks/ELMED219-Lab2-Del2b-MRI-Multispektral.ipynb)\n",
    "* [ELMED219-Lab2-Del2c-MRI-SNR-CNR](notebooks/ELMED219-Lab2-Del2c-MRI-SNR-CNR.ipynb)\n",
    "* [ELMED219-Lab2-Del2d-MRI-Styrt-Vevsklassifikasjon](notebooks/ELMED219-Lab2-Del2d-MRI-Styrt-Vevsklassifikasjon.ipynb)\n",
    "* [ELMED219-Lab2-Del2e-MRI-Ikke-Styrt-Vevsklassifikasjon](notebooks/ELMED219-Lab2-Del2e-MRI-Ikke-Styrt-Vevsklassifikasjon.ipynb)"
   ]
  },
  {
   "cell_type": "markdown",
   "metadata": {},
   "source": [
    "## Lab 3: Drug discovery"
   ]
  },
  {
   "cell_type": "markdown",
   "metadata": {},
   "source": [
    "* [ELMED219-Lab3-Drug_discovery-RDKit](notebooks/ELMED219-Lab3-Drug_discovery-RDKit.ipynb)\n",
    "* [ELMED219-Lab3-Drug_discovery-Merck](notebooks/ELMED219-Lab3-Drug_discovery-Merck.ipynb)"
   ]
  },
  {
   "cell_type": "markdown",
   "metadata": {},
   "source": [
    "## Ekstramateriale"
   ]
  },
  {
   "cell_type": "markdown",
   "metadata": {},
   "source": [
    "* Introeksempler fra motivasjonsforelesning:\n",
    "  * [ELMED219-Extra-Introeksempel.ipynb](ekstra/ELMED219-Extra-Introeksempel.ipynb). Et kjapt eksempel på maskinlæring.\n",
    "  * [ELMED219-Extra-flowers.ipynb](ekstra/ELMED219-Extra-flowers.ipynb). Et kort eksempel på _dyplæring_. Sammen med eksempelet over illustrerte dette hvordan dyplæring skiller seg fra andre former for maskinlæring (automatisk konstruksjon av hierarkisk representasjon av data).\n",
    "  \n",
    "  \n",
    "* [Om random forests](ekstra/ELMED219-Random_forests.ipynb)"
   ]
  },
  {
   "cell_type": "code",
   "execution_count": null,
   "metadata": {},
   "outputs": [],
   "source": []
  }
 ],
 "metadata": {
  "kernelspec": {
   "display_name": "ELMED219",
   "language": "python",
   "name": "elmed219"
  },
  "language_info": {
   "codemirror_mode": {
    "name": "ipython",
    "version": 3
   },
   "file_extension": ".py",
   "mimetype": "text/x-python",
   "name": "python",
   "nbconvert_exporter": "python",
   "pygments_lexer": "ipython3",
   "version": "3.7.6"
  },
  "toc": {
   "base_numbering": 1,
   "nav_menu": {},
   "number_sections": true,
   "sideBar": true,
   "skip_h1_title": false,
   "title_cell": "Table of Contents",
   "title_sidebar": "Contents",
   "toc_cell": true,
   "toc_position": {},
   "toc_section_display": true,
   "toc_window_display": false
  }
 },
 "nbformat": 4,
 "nbformat_minor": 4
}
