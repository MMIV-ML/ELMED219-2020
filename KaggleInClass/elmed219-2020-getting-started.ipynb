{
 "cells": [
  {
   "cell_type": "markdown",
   "metadata": {},
   "source": [
    "# Getting started on the ELMED219-2020 Challenge\n",
    "\n",
    "> Alexander S. Lundervold, 27.01.20"
   ]
  },
  {
   "cell_type": "markdown",
   "metadata": {},
   "source": [
    "In this kernel we'll get you started by\n",
    "\n",
    "1. **Loading the data**. We'll use Pandas to load the training and test data\n",
    "2. **Investigating a few features**. We'll have a look at a few features in the data through simple statistics and plotting.\n",
    "3. **Explain how to submit predictions**. After you've created a model and produced predictions on the test set, you have to gather the predictions in a file that can be submitted to Kaggle for scoring. We'll show you how."
   ]
  },
  {
   "cell_type": "markdown",
   "metadata": {
    "_cell_guid": "79c7e3d0-c299-4dcb-8224-4455121ee9b0",
    "_uuid": "d629ff2d2480ee46fbb7e2d37f6b5fab8052498a"
   },
   "source": [
    "_If you want to use this notebook as a starting point for your own work, you can just hit \"Fork\" to get started._ \n",
    "\n",
    "Another option is to use Colab: https://colab.research.google.com. To do that, (i) download the notebook to your own computer, (ii) go to https://colab.research.google.com, log in, and upload the notebook, (iii) share it with your team members. \n",
    "\n",
    "We recommend the Colab option."
   ]
  },
  {
   "cell_type": "markdown",
   "metadata": {
    "heading_collapsed": true
   },
   "source": [
    "# Setup"
   ]
  },
  {
   "cell_type": "markdown",
   "metadata": {
    "hidden": true
   },
   "source": [
    "You'll get very far just using the standard Python libraries for data science, imported here:"
   ]
  },
  {
   "cell_type": "code",
   "execution_count": 1,
   "metadata": {
    "hidden": true
   },
   "outputs": [],
   "source": [
    "%matplotlib inline\n",
    "import numpy as np, pandas as pd, seaborn as sns, matplotlib.pyplot as plt\n",
    "from pathlib import Path"
   ]
  },
  {
   "cell_type": "markdown",
   "metadata": {
    "heading_collapsed": true
   },
   "source": [
    "# Load the data"
   ]
  },
  {
   "cell_type": "markdown",
   "metadata": {
    "hidden": true
   },
   "source": [
    "Here are three options: \n",
    "1. For working locally\n",
    "2. Working in a Kaggle kernel\n",
    "3. Using Colab"
   ]
  },
  {
   "cell_type": "markdown",
   "metadata": {
    "hidden": true
   },
   "source": [
    "## If you're working locally"
   ]
  },
  {
   "cell_type": "markdown",
   "metadata": {
    "hidden": true
   },
   "source": [
    "You can download the data via the Data tab on the Kaggle competition home page."
   ]
  },
  {
   "cell_type": "markdown",
   "metadata": {
    "hidden": true
   },
   "source": [
    "## If you're using Kaggle:"
   ]
  },
  {
   "cell_type": "markdown",
   "metadata": {
    "hidden": true
   },
   "source": [
    "Uncomment and run the following cells (remove the # symbols)\n",
    "\n",
    "The data is stored in the `input` folder:"
   ]
  },
  {
   "cell_type": "code",
   "execution_count": 2,
   "metadata": {
    "hidden": true
   },
   "outputs": [],
   "source": [
    "#DATA = Path('../input/elmed219-2020')\n",
    "#list(DATA.iterdir())"
   ]
  },
  {
   "cell_type": "markdown",
   "metadata": {
    "hidden": true
   },
   "source": [
    "There are five files: the training data, the test data, a sample submission file, a file containing Freesurfer outputs for subjects scanned multiple times, and a lookup table for Freesurfer (useful when plotting the Freesurfer outputs to better understand what the different features are)."
   ]
  },
  {
   "cell_type": "code",
   "execution_count": 3,
   "metadata": {
    "hidden": true
   },
   "outputs": [],
   "source": [
    "#import pickle"
   ]
  },
  {
   "cell_type": "code",
   "execution_count": 4,
   "metadata": {
    "hidden": true
   },
   "outputs": [],
   "source": [
    "#train = pd.read_csv(DATA/'train.csv')\n",
    "#test = pd.read_csv(DATA/'test.csv')\n",
    "#sampleSubmission = pd.read_csv(DATA/'sampleSubmission.csv')\n",
    "#slim_longitudinal = pd.read_csv(DATA/'SLIM_longitudinal_info.csv')"
   ]
  },
  {
   "cell_type": "code",
   "execution_count": 5,
   "metadata": {
    "hidden": true
   },
   "outputs": [],
   "source": [
    "#with open(DATA/'FreesurferLUT.pkl', 'rb') as f:\n",
    "#    FS_LUT = pickle.load(f)"
   ]
  },
  {
   "cell_type": "markdown",
   "metadata": {
    "hidden": true
   },
   "source": [
    "## If you're using Colab:"
   ]
  },
  {
   "cell_type": "code",
   "execution_count": 6,
   "metadata": {
    "hidden": true
   },
   "outputs": [],
   "source": [
    "import pickle"
   ]
  },
  {
   "cell_type": "code",
   "execution_count": 7,
   "metadata": {
    "hidden": true
   },
   "outputs": [],
   "source": [
    "train = pd.read_csv('https://github.com/MMIV-ML/ELMED219-2020/raw/master/KaggleInClass/train.csv')\n",
    "test = pd.read_csv('https://github.com/MMIV-ML/ELMED219-2020/raw/master/KaggleInClass/test.csv')\n",
    "sampleSubmission = pd.read_csv('https://raw.githubusercontent.com/MMIV-ML/ELMED219-2020/master/KaggleInClass/sampleSubmission.csv')\n",
    "slim_longitudinal = pd.read_csv('https://raw.githubusercontent.com/MMIV-ML/ELMED219-2020/master/KaggleInClass/SLIM_longitudinal_info.csv')"
   ]
  },
  {
   "cell_type": "code",
   "execution_count": 8,
   "metadata": {
    "hidden": true
   },
   "outputs": [],
   "source": [
    "import urllib"
   ]
  },
  {
   "cell_type": "code",
   "execution_count": 9,
   "metadata": {
    "hidden": true
   },
   "outputs": [],
   "source": [
    "with urllib.request.urlopen('https://github.com/MMIV-ML/ELMED219-2020/raw/master/KaggleInClass/FreesurferLUT.pkl') as f:\n",
    "   FS_LUT = pickle.load(f)"
   ]
  },
  {
   "cell_type": "markdown",
   "metadata": {
    "heading_collapsed": true
   },
   "source": [
    "# Take a look at the data"
   ]
  },
  {
   "cell_type": "code",
   "execution_count": 10,
   "metadata": {
    "hidden": true
   },
   "outputs": [
    {
     "name": "stdout",
     "output_type": "stream",
     "text": [
      "<class 'pandas.core.frame.DataFrame'>\n",
      "RangeIndex: 1874 entries, 0 to 1873\n",
      "Columns: 150 entries, SubjectID to Age\n",
      "dtypes: float64(144), int64(2), object(4)\n",
      "memory usage: 2.1+ MB\n"
     ]
    }
   ],
   "source": [
    "train.info()"
   ]
  },
  {
   "cell_type": "code",
   "execution_count": 11,
   "metadata": {
    "hidden": true
   },
   "outputs": [
    {
     "name": "stdout",
     "output_type": "stream",
     "text": [
      "<class 'pandas.core.frame.DataFrame'>\n",
      "RangeIndex: 625 entries, 0 to 624\n",
      "Columns: 143 entries, SubjectID to eTIV_y\n",
      "dtypes: float64(140), int64(2), object(1)\n",
      "memory usage: 698.4+ KB\n"
     ]
    }
   ],
   "source": [
    "test.info()"
   ]
  },
  {
   "cell_type": "code",
   "execution_count": 12,
   "metadata": {
    "hidden": true
   },
   "outputs": [
    {
     "data": {
      "text/html": [
       "<div>\n",
       "<style scoped>\n",
       "    .dataframe tbody tr th:only-of-type {\n",
       "        vertical-align: middle;\n",
       "    }\n",
       "\n",
       "    .dataframe tbody tr th {\n",
       "        vertical-align: top;\n",
       "    }\n",
       "\n",
       "    .dataframe thead th {\n",
       "        text-align: right;\n",
       "    }\n",
       "</style>\n",
       "<table border=\"1\" class=\"dataframe\">\n",
       "  <thead>\n",
       "    <tr style=\"text-align: right;\">\n",
       "      <th></th>\n",
       "      <th>SubjectID</th>\n",
       "      <th>Source</th>\n",
       "      <th>ID</th>\n",
       "      <th>Sex</th>\n",
       "      <th>Height</th>\n",
       "      <th>Weight</th>\n",
       "      <th>FieldStrength</th>\n",
       "      <th>Handedness</th>\n",
       "      <th>Measure:volume</th>\n",
       "      <th>Left-Lateral-Ventricle</th>\n",
       "      <th>...</th>\n",
       "      <th>rh_superiortemporal_thickness</th>\n",
       "      <th>rh_supramarginal_thickness</th>\n",
       "      <th>rh_frontalpole_thickness</th>\n",
       "      <th>rh_temporalpole_thickness</th>\n",
       "      <th>rh_transversetemporal_thickness</th>\n",
       "      <th>rh_insula_thickness</th>\n",
       "      <th>rh_MeanThickness_thickness</th>\n",
       "      <th>BrainSegVolNotVent</th>\n",
       "      <th>eTIV_y</th>\n",
       "      <th>Age</th>\n",
       "    </tr>\n",
       "  </thead>\n",
       "  <tbody>\n",
       "    <tr>\n",
       "      <td>0</td>\n",
       "      <td>1547</td>\n",
       "      <td>Other</td>\n",
       "      <td>NaN</td>\n",
       "      <td>M</td>\n",
       "      <td>NaN</td>\n",
       "      <td>NaN</td>\n",
       "      <td>NaN</td>\n",
       "      <td>NaN</td>\n",
       "      <td>0</td>\n",
       "      <td>26532.5</td>\n",
       "      <td>...</td>\n",
       "      <td>2.639</td>\n",
       "      <td>2.311</td>\n",
       "      <td>2.317</td>\n",
       "      <td>3.537</td>\n",
       "      <td>2.351</td>\n",
       "      <td>2.799</td>\n",
       "      <td>2.26426</td>\n",
       "      <td>1004741.0</td>\n",
       "      <td>1.397217e+06</td>\n",
       "      <td>78.4</td>\n",
       "    </tr>\n",
       "    <tr>\n",
       "      <td>1</td>\n",
       "      <td>768</td>\n",
       "      <td>SLIM</td>\n",
       "      <td>25825</td>\n",
       "      <td>F</td>\n",
       "      <td>NaN</td>\n",
       "      <td>NaN</td>\n",
       "      <td>3T</td>\n",
       "      <td>NaN</td>\n",
       "      <td>0</td>\n",
       "      <td>2284.7</td>\n",
       "      <td>...</td>\n",
       "      <td>3.104</td>\n",
       "      <td>2.730</td>\n",
       "      <td>3.147</td>\n",
       "      <td>4.030</td>\n",
       "      <td>2.865</td>\n",
       "      <td>3.294</td>\n",
       "      <td>2.73944</td>\n",
       "      <td>1112753.0</td>\n",
       "      <td>1.340906e+06</td>\n",
       "      <td>18.0</td>\n",
       "    </tr>\n",
       "    <tr>\n",
       "      <td>2</td>\n",
       "      <td>2077</td>\n",
       "      <td>SLIM</td>\n",
       "      <td>30901</td>\n",
       "      <td>F</td>\n",
       "      <td>NaN</td>\n",
       "      <td>NaN</td>\n",
       "      <td>3T</td>\n",
       "      <td>NaN</td>\n",
       "      <td>0</td>\n",
       "      <td>3234.5</td>\n",
       "      <td>...</td>\n",
       "      <td>2.982</td>\n",
       "      <td>2.833</td>\n",
       "      <td>2.723</td>\n",
       "      <td>3.224</td>\n",
       "      <td>2.453</td>\n",
       "      <td>3.093</td>\n",
       "      <td>2.63931</td>\n",
       "      <td>1127516.0</td>\n",
       "      <td>1.448150e+06</td>\n",
       "      <td>20.0</td>\n",
       "    </tr>\n",
       "    <tr>\n",
       "      <td>3</td>\n",
       "      <td>2076</td>\n",
       "      <td>SALD</td>\n",
       "      <td>31354</td>\n",
       "      <td>F</td>\n",
       "      <td>NaN</td>\n",
       "      <td>NaN</td>\n",
       "      <td>3T</td>\n",
       "      <td>100.0</td>\n",
       "      <td>0</td>\n",
       "      <td>9019.0</td>\n",
       "      <td>...</td>\n",
       "      <td>2.717</td>\n",
       "      <td>2.486</td>\n",
       "      <td>3.066</td>\n",
       "      <td>3.517</td>\n",
       "      <td>2.439</td>\n",
       "      <td>2.924</td>\n",
       "      <td>2.57008</td>\n",
       "      <td>1011328.0</td>\n",
       "      <td>1.318798e+06</td>\n",
       "      <td>56.0</td>\n",
       "    </tr>\n",
       "    <tr>\n",
       "      <td>4</td>\n",
       "      <td>2488</td>\n",
       "      <td>SLIM</td>\n",
       "      <td>30826</td>\n",
       "      <td>F</td>\n",
       "      <td>NaN</td>\n",
       "      <td>NaN</td>\n",
       "      <td>3T</td>\n",
       "      <td>NaN</td>\n",
       "      <td>0</td>\n",
       "      <td>4964.1</td>\n",
       "      <td>...</td>\n",
       "      <td>2.974</td>\n",
       "      <td>2.642</td>\n",
       "      <td>2.597</td>\n",
       "      <td>3.857</td>\n",
       "      <td>2.541</td>\n",
       "      <td>3.150</td>\n",
       "      <td>2.62909</td>\n",
       "      <td>1121589.0</td>\n",
       "      <td>1.461194e+06</td>\n",
       "      <td>19.0</td>\n",
       "    </tr>\n",
       "  </tbody>\n",
       "</table>\n",
       "<p>5 rows × 150 columns</p>\n",
       "</div>"
      ],
      "text/plain": [
       "   SubjectID Source     ID Sex  Height  Weight FieldStrength  Handedness  \\\n",
       "0       1547  Other    NaN   M     NaN     NaN           NaN         NaN   \n",
       "1        768   SLIM  25825   F     NaN     NaN            3T         NaN   \n",
       "2       2077   SLIM  30901   F     NaN     NaN            3T         NaN   \n",
       "3       2076   SALD  31354   F     NaN     NaN            3T       100.0   \n",
       "4       2488   SLIM  30826   F     NaN     NaN            3T         NaN   \n",
       "\n",
       "   Measure:volume  Left-Lateral-Ventricle  ...  rh_superiortemporal_thickness  \\\n",
       "0               0                 26532.5  ...                          2.639   \n",
       "1               0                  2284.7  ...                          3.104   \n",
       "2               0                  3234.5  ...                          2.982   \n",
       "3               0                  9019.0  ...                          2.717   \n",
       "4               0                  4964.1  ...                          2.974   \n",
       "\n",
       "   rh_supramarginal_thickness  rh_frontalpole_thickness  \\\n",
       "0                       2.311                     2.317   \n",
       "1                       2.730                     3.147   \n",
       "2                       2.833                     2.723   \n",
       "3                       2.486                     3.066   \n",
       "4                       2.642                     2.597   \n",
       "\n",
       "   rh_temporalpole_thickness  rh_transversetemporal_thickness  \\\n",
       "0                      3.537                            2.351   \n",
       "1                      4.030                            2.865   \n",
       "2                      3.224                            2.453   \n",
       "3                      3.517                            2.439   \n",
       "4                      3.857                            2.541   \n",
       "\n",
       "   rh_insula_thickness  rh_MeanThickness_thickness  BrainSegVolNotVent  \\\n",
       "0                2.799                     2.26426           1004741.0   \n",
       "1                3.294                     2.73944           1112753.0   \n",
       "2                3.093                     2.63931           1127516.0   \n",
       "3                2.924                     2.57008           1011328.0   \n",
       "4                3.150                     2.62909           1121589.0   \n",
       "\n",
       "         eTIV_y   Age  \n",
       "0  1.397217e+06  78.4  \n",
       "1  1.340906e+06  18.0  \n",
       "2  1.448150e+06  20.0  \n",
       "3  1.318798e+06  56.0  \n",
       "4  1.461194e+06  19.0  \n",
       "\n",
       "[5 rows x 150 columns]"
      ]
     },
     "execution_count": 12,
     "metadata": {},
     "output_type": "execute_result"
    }
   ],
   "source": [
    "train.head()"
   ]
  },
  {
   "cell_type": "code",
   "execution_count": 13,
   "metadata": {
    "hidden": true
   },
   "outputs": [
    {
     "data": {
      "text/html": [
       "<div>\n",
       "<style scoped>\n",
       "    .dataframe tbody tr th:only-of-type {\n",
       "        vertical-align: middle;\n",
       "    }\n",
       "\n",
       "    .dataframe tbody tr th {\n",
       "        vertical-align: top;\n",
       "    }\n",
       "\n",
       "    .dataframe thead th {\n",
       "        text-align: right;\n",
       "    }\n",
       "</style>\n",
       "<table border=\"1\" class=\"dataframe\">\n",
       "  <thead>\n",
       "    <tr style=\"text-align: right;\">\n",
       "      <th></th>\n",
       "      <th>SubjectID</th>\n",
       "      <th>Sex</th>\n",
       "      <th>Measure:volume</th>\n",
       "      <th>Left-Lateral-Ventricle</th>\n",
       "      <th>Left-Inf-Lat-Vent</th>\n",
       "      <th>Left-Cerebellum-White-Matter</th>\n",
       "      <th>Left-Cerebellum-Cortex</th>\n",
       "      <th>Left-Thalamus-Proper</th>\n",
       "      <th>Left-Caudate</th>\n",
       "      <th>Left-Putamen</th>\n",
       "      <th>...</th>\n",
       "      <th>rh_superiorparietal_thickness</th>\n",
       "      <th>rh_superiortemporal_thickness</th>\n",
       "      <th>rh_supramarginal_thickness</th>\n",
       "      <th>rh_frontalpole_thickness</th>\n",
       "      <th>rh_temporalpole_thickness</th>\n",
       "      <th>rh_transversetemporal_thickness</th>\n",
       "      <th>rh_insula_thickness</th>\n",
       "      <th>rh_MeanThickness_thickness</th>\n",
       "      <th>BrainSegVolNotVent</th>\n",
       "      <th>eTIV_y</th>\n",
       "    </tr>\n",
       "  </thead>\n",
       "  <tbody>\n",
       "    <tr>\n",
       "      <td>0</td>\n",
       "      <td>1541</td>\n",
       "      <td>M</td>\n",
       "      <td>0</td>\n",
       "      <td>5854.8</td>\n",
       "      <td>215.5</td>\n",
       "      <td>15457.1</td>\n",
       "      <td>53968.8</td>\n",
       "      <td>6838.4</td>\n",
       "      <td>3138.6</td>\n",
       "      <td>4808.5</td>\n",
       "      <td>...</td>\n",
       "      <td>2.133</td>\n",
       "      <td>2.554</td>\n",
       "      <td>2.337</td>\n",
       "      <td>2.774</td>\n",
       "      <td>3.827</td>\n",
       "      <td>2.018</td>\n",
       "      <td>2.947</td>\n",
       "      <td>2.37916</td>\n",
       "      <td>1006715.0</td>\n",
       "      <td>1.351564e+06</td>\n",
       "    </tr>\n",
       "    <tr>\n",
       "      <td>1</td>\n",
       "      <td>494</td>\n",
       "      <td>M</td>\n",
       "      <td>0</td>\n",
       "      <td>6224.2</td>\n",
       "      <td>306.6</td>\n",
       "      <td>16640.6</td>\n",
       "      <td>56960.1</td>\n",
       "      <td>7633.4</td>\n",
       "      <td>2850.5</td>\n",
       "      <td>4416.0</td>\n",
       "      <td>...</td>\n",
       "      <td>2.224</td>\n",
       "      <td>3.003</td>\n",
       "      <td>2.622</td>\n",
       "      <td>2.986</td>\n",
       "      <td>4.340</td>\n",
       "      <td>2.550</td>\n",
       "      <td>3.258</td>\n",
       "      <td>2.59318</td>\n",
       "      <td>1131844.0</td>\n",
       "      <td>1.378325e+06</td>\n",
       "    </tr>\n",
       "    <tr>\n",
       "      <td>2</td>\n",
       "      <td>771</td>\n",
       "      <td>F</td>\n",
       "      <td>0</td>\n",
       "      <td>7119.3</td>\n",
       "      <td>302.9</td>\n",
       "      <td>17132.6</td>\n",
       "      <td>60629.2</td>\n",
       "      <td>8369.9</td>\n",
       "      <td>3678.7</td>\n",
       "      <td>4961.7</td>\n",
       "      <td>...</td>\n",
       "      <td>2.377</td>\n",
       "      <td>3.076</td>\n",
       "      <td>2.658</td>\n",
       "      <td>2.961</td>\n",
       "      <td>3.074</td>\n",
       "      <td>2.601</td>\n",
       "      <td>3.308</td>\n",
       "      <td>2.65192</td>\n",
       "      <td>1178012.0</td>\n",
       "      <td>1.487637e+06</td>\n",
       "    </tr>\n",
       "    <tr>\n",
       "      <td>3</td>\n",
       "      <td>397</td>\n",
       "      <td>M</td>\n",
       "      <td>0</td>\n",
       "      <td>8142.8</td>\n",
       "      <td>592.2</td>\n",
       "      <td>14954.5</td>\n",
       "      <td>61128.1</td>\n",
       "      <td>9311.8</td>\n",
       "      <td>3914.3</td>\n",
       "      <td>6324.5</td>\n",
       "      <td>...</td>\n",
       "      <td>2.302</td>\n",
       "      <td>3.030</td>\n",
       "      <td>2.618</td>\n",
       "      <td>3.196</td>\n",
       "      <td>3.622</td>\n",
       "      <td>2.503</td>\n",
       "      <td>3.109</td>\n",
       "      <td>2.60034</td>\n",
       "      <td>1271484.0</td>\n",
       "      <td>1.680459e+06</td>\n",
       "    </tr>\n",
       "    <tr>\n",
       "      <td>4</td>\n",
       "      <td>2398</td>\n",
       "      <td>M</td>\n",
       "      <td>0</td>\n",
       "      <td>21841.9</td>\n",
       "      <td>519.4</td>\n",
       "      <td>16929.6</td>\n",
       "      <td>58449.9</td>\n",
       "      <td>6978.4</td>\n",
       "      <td>3338.0</td>\n",
       "      <td>4578.8</td>\n",
       "      <td>...</td>\n",
       "      <td>1.931</td>\n",
       "      <td>2.388</td>\n",
       "      <td>2.167</td>\n",
       "      <td>2.388</td>\n",
       "      <td>3.499</td>\n",
       "      <td>1.755</td>\n",
       "      <td>2.527</td>\n",
       "      <td>2.20198</td>\n",
       "      <td>1203519.0</td>\n",
       "      <td>1.741686e+06</td>\n",
       "    </tr>\n",
       "  </tbody>\n",
       "</table>\n",
       "<p>5 rows × 143 columns</p>\n",
       "</div>"
      ],
      "text/plain": [
       "   SubjectID Sex  Measure:volume  Left-Lateral-Ventricle  Left-Inf-Lat-Vent  \\\n",
       "0       1541   M               0                  5854.8              215.5   \n",
       "1        494   M               0                  6224.2              306.6   \n",
       "2        771   F               0                  7119.3              302.9   \n",
       "3        397   M               0                  8142.8              592.2   \n",
       "4       2398   M               0                 21841.9              519.4   \n",
       "\n",
       "   Left-Cerebellum-White-Matter  Left-Cerebellum-Cortex  Left-Thalamus-Proper  \\\n",
       "0                       15457.1                 53968.8                6838.4   \n",
       "1                       16640.6                 56960.1                7633.4   \n",
       "2                       17132.6                 60629.2                8369.9   \n",
       "3                       14954.5                 61128.1                9311.8   \n",
       "4                       16929.6                 58449.9                6978.4   \n",
       "\n",
       "   Left-Caudate  Left-Putamen  ...  rh_superiorparietal_thickness  \\\n",
       "0        3138.6        4808.5  ...                          2.133   \n",
       "1        2850.5        4416.0  ...                          2.224   \n",
       "2        3678.7        4961.7  ...                          2.377   \n",
       "3        3914.3        6324.5  ...                          2.302   \n",
       "4        3338.0        4578.8  ...                          1.931   \n",
       "\n",
       "   rh_superiortemporal_thickness  rh_supramarginal_thickness  \\\n",
       "0                          2.554                       2.337   \n",
       "1                          3.003                       2.622   \n",
       "2                          3.076                       2.658   \n",
       "3                          3.030                       2.618   \n",
       "4                          2.388                       2.167   \n",
       "\n",
       "   rh_frontalpole_thickness  rh_temporalpole_thickness  \\\n",
       "0                     2.774                      3.827   \n",
       "1                     2.986                      4.340   \n",
       "2                     2.961                      3.074   \n",
       "3                     3.196                      3.622   \n",
       "4                     2.388                      3.499   \n",
       "\n",
       "   rh_transversetemporal_thickness  rh_insula_thickness  \\\n",
       "0                            2.018                2.947   \n",
       "1                            2.550                3.258   \n",
       "2                            2.601                3.308   \n",
       "3                            2.503                3.109   \n",
       "4                            1.755                2.527   \n",
       "\n",
       "   rh_MeanThickness_thickness  BrainSegVolNotVent        eTIV_y  \n",
       "0                     2.37916           1006715.0  1.351564e+06  \n",
       "1                     2.59318           1131844.0  1.378325e+06  \n",
       "2                     2.65192           1178012.0  1.487637e+06  \n",
       "3                     2.60034           1271484.0  1.680459e+06  \n",
       "4                     2.20198           1203519.0  1.741686e+06  \n",
       "\n",
       "[5 rows x 143 columns]"
      ]
     },
     "execution_count": 13,
     "metadata": {},
     "output_type": "execute_result"
    }
   ],
   "source": [
    "test.head()"
   ]
  },
  {
   "cell_type": "markdown",
   "metadata": {
    "hidden": true
   },
   "source": [
    "In the training data we have our target feature `Age` at the end, while it's missing in the test data. We want to make a model that can predict `Age` from the other features in the test data."
   ]
  },
  {
   "cell_type": "markdown",
   "metadata": {
    "hidden": true
   },
   "source": [
    "## Additional data"
   ]
  },
  {
   "cell_type": "code",
   "execution_count": 14,
   "metadata": {
    "hidden": true
   },
   "outputs": [],
   "source": [
    "#FS_LUT"
   ]
  },
  {
   "cell_type": "markdown",
   "metadata": {
    "hidden": true
   },
   "source": [
    "The longitudinal file with data from SLIM contains 18 subjects scanned three times each. More on this later."
   ]
  },
  {
   "cell_type": "code",
   "execution_count": 15,
   "metadata": {
    "hidden": true
   },
   "outputs": [
    {
     "data": {
      "text/html": [
       "<div>\n",
       "<style scoped>\n",
       "    .dataframe tbody tr th:only-of-type {\n",
       "        vertical-align: middle;\n",
       "    }\n",
       "\n",
       "    .dataframe tbody tr th {\n",
       "        vertical-align: top;\n",
       "    }\n",
       "\n",
       "    .dataframe thead th {\n",
       "        text-align: right;\n",
       "    }\n",
       "</style>\n",
       "<table border=\"1\" class=\"dataframe\">\n",
       "  <thead>\n",
       "    <tr style=\"text-align: right;\">\n",
       "      <th></th>\n",
       "      <th>Match_ID</th>\n",
       "      <th>age_at_Scan1</th>\n",
       "      <th>Sex</th>\n",
       "      <th>anat</th>\n",
       "      <th>func</th>\n",
       "      <th>DTI</th>\n",
       "      <th>Scan_Time</th>\n",
       "      <th>Session</th>\n",
       "      <th>ID</th>\n",
       "      <th>Measure:volume</th>\n",
       "      <th>...</th>\n",
       "      <th>rh_superiorparietal_thickness</th>\n",
       "      <th>rh_superiortemporal_thickness</th>\n",
       "      <th>rh_supramarginal_thickness</th>\n",
       "      <th>rh_frontalpole_thickness</th>\n",
       "      <th>rh_temporalpole_thickness</th>\n",
       "      <th>rh_transversetemporal_thickness</th>\n",
       "      <th>rh_insula_thickness</th>\n",
       "      <th>rh_MeanThickness_thickness</th>\n",
       "      <th>BrainSegVolNotVent</th>\n",
       "      <th>eTIV_y</th>\n",
       "    </tr>\n",
       "  </thead>\n",
       "  <tbody>\n",
       "    <tr>\n",
       "      <td>0</td>\n",
       "      <td>25632</td>\n",
       "      <td>20.0</td>\n",
       "      <td>male</td>\n",
       "      <td>1</td>\n",
       "      <td>1.0</td>\n",
       "      <td>1.0</td>\n",
       "      <td>'20-Nov-2011'</td>\n",
       "      <td>1</td>\n",
       "      <td>sub-25632-ses1.long.sub-25632</td>\n",
       "      <td>0</td>\n",
       "      <td>...</td>\n",
       "      <td>2.481</td>\n",
       "      <td>3.017</td>\n",
       "      <td>2.842</td>\n",
       "      <td>2.934</td>\n",
       "      <td>4.204</td>\n",
       "      <td>2.363</td>\n",
       "      <td>3.191</td>\n",
       "      <td>2.68579</td>\n",
       "      <td>1132057.0</td>\n",
       "      <td>1.472476e+06</td>\n",
       "    </tr>\n",
       "    <tr>\n",
       "      <td>1</td>\n",
       "      <td>25633</td>\n",
       "      <td>18.0</td>\n",
       "      <td>female</td>\n",
       "      <td>1</td>\n",
       "      <td>1.0</td>\n",
       "      <td>1.0</td>\n",
       "      <td>'20-Nov-2011'</td>\n",
       "      <td>1</td>\n",
       "      <td>sub-25633-ses1.long.sub-25633</td>\n",
       "      <td>0</td>\n",
       "      <td>...</td>\n",
       "      <td>2.397</td>\n",
       "      <td>2.894</td>\n",
       "      <td>2.719</td>\n",
       "      <td>3.096</td>\n",
       "      <td>4.169</td>\n",
       "      <td>2.473</td>\n",
       "      <td>3.144</td>\n",
       "      <td>2.64881</td>\n",
       "      <td>1074396.0</td>\n",
       "      <td>1.399950e+06</td>\n",
       "    </tr>\n",
       "    <tr>\n",
       "      <td>2</td>\n",
       "      <td>25635</td>\n",
       "      <td>20.0</td>\n",
       "      <td>male</td>\n",
       "      <td>1</td>\n",
       "      <td>1.0</td>\n",
       "      <td>1.0</td>\n",
       "      <td>'26-Nov-2011'</td>\n",
       "      <td>1</td>\n",
       "      <td>sub-25635-ses1.long.sub-25635</td>\n",
       "      <td>0</td>\n",
       "      <td>...</td>\n",
       "      <td>2.502</td>\n",
       "      <td>3.065</td>\n",
       "      <td>2.854</td>\n",
       "      <td>3.061</td>\n",
       "      <td>3.751</td>\n",
       "      <td>2.674</td>\n",
       "      <td>3.330</td>\n",
       "      <td>2.71324</td>\n",
       "      <td>1163072.0</td>\n",
       "      <td>1.528341e+06</td>\n",
       "    </tr>\n",
       "    <tr>\n",
       "      <td>3</td>\n",
       "      <td>25637</td>\n",
       "      <td>21.0</td>\n",
       "      <td>female</td>\n",
       "      <td>1</td>\n",
       "      <td>1.0</td>\n",
       "      <td>1.0</td>\n",
       "      <td>'03-Apr-2012'</td>\n",
       "      <td>1</td>\n",
       "      <td>sub-25637-ses1.long.sub-25637</td>\n",
       "      <td>0</td>\n",
       "      <td>...</td>\n",
       "      <td>2.447</td>\n",
       "      <td>2.977</td>\n",
       "      <td>2.816</td>\n",
       "      <td>3.025</td>\n",
       "      <td>3.756</td>\n",
       "      <td>2.637</td>\n",
       "      <td>3.382</td>\n",
       "      <td>2.75153</td>\n",
       "      <td>1198812.0</td>\n",
       "      <td>1.562241e+06</td>\n",
       "    </tr>\n",
       "    <tr>\n",
       "      <td>4</td>\n",
       "      <td>25642</td>\n",
       "      <td>22.0</td>\n",
       "      <td>female</td>\n",
       "      <td>1</td>\n",
       "      <td>1.0</td>\n",
       "      <td>1.0</td>\n",
       "      <td>'04-Jul-2012'</td>\n",
       "      <td>1</td>\n",
       "      <td>sub-25642-ses1.long.sub-25642</td>\n",
       "      <td>0</td>\n",
       "      <td>...</td>\n",
       "      <td>2.349</td>\n",
       "      <td>2.908</td>\n",
       "      <td>2.608</td>\n",
       "      <td>2.686</td>\n",
       "      <td>3.680</td>\n",
       "      <td>2.502</td>\n",
       "      <td>3.287</td>\n",
       "      <td>2.59840</td>\n",
       "      <td>1151106.0</td>\n",
       "      <td>1.538673e+06</td>\n",
       "    </tr>\n",
       "  </tbody>\n",
       "</table>\n",
       "<p>5 rows × 149 columns</p>\n",
       "</div>"
      ],
      "text/plain": [
       "   Match_ID  age_at_Scan1     Sex  anat  func  DTI      Scan_Time  Session  \\\n",
       "0     25632          20.0    male     1   1.0  1.0  '20-Nov-2011'        1   \n",
       "1     25633          18.0  female     1   1.0  1.0  '20-Nov-2011'        1   \n",
       "2     25635          20.0    male     1   1.0  1.0  '26-Nov-2011'        1   \n",
       "3     25637          21.0  female     1   1.0  1.0  '03-Apr-2012'        1   \n",
       "4     25642          22.0  female     1   1.0  1.0  '04-Jul-2012'        1   \n",
       "\n",
       "                              ID  Measure:volume  ...  \\\n",
       "0  sub-25632-ses1.long.sub-25632               0  ...   \n",
       "1  sub-25633-ses1.long.sub-25633               0  ...   \n",
       "2  sub-25635-ses1.long.sub-25635               0  ...   \n",
       "3  sub-25637-ses1.long.sub-25637               0  ...   \n",
       "4  sub-25642-ses1.long.sub-25642               0  ...   \n",
       "\n",
       "   rh_superiorparietal_thickness  rh_superiortemporal_thickness  \\\n",
       "0                          2.481                          3.017   \n",
       "1                          2.397                          2.894   \n",
       "2                          2.502                          3.065   \n",
       "3                          2.447                          2.977   \n",
       "4                          2.349                          2.908   \n",
       "\n",
       "   rh_supramarginal_thickness  rh_frontalpole_thickness  \\\n",
       "0                       2.842                     2.934   \n",
       "1                       2.719                     3.096   \n",
       "2                       2.854                     3.061   \n",
       "3                       2.816                     3.025   \n",
       "4                       2.608                     2.686   \n",
       "\n",
       "   rh_temporalpole_thickness  rh_transversetemporal_thickness  \\\n",
       "0                      4.204                            2.363   \n",
       "1                      4.169                            2.473   \n",
       "2                      3.751                            2.674   \n",
       "3                      3.756                            2.637   \n",
       "4                      3.680                            2.502   \n",
       "\n",
       "   rh_insula_thickness  rh_MeanThickness_thickness  BrainSegVolNotVent  \\\n",
       "0                3.191                     2.68579           1132057.0   \n",
       "1                3.144                     2.64881           1074396.0   \n",
       "2                3.330                     2.71324           1163072.0   \n",
       "3                3.382                     2.75153           1198812.0   \n",
       "4                3.287                     2.59840           1151106.0   \n",
       "\n",
       "         eTIV_y  \n",
       "0  1.472476e+06  \n",
       "1  1.399950e+06  \n",
       "2  1.528341e+06  \n",
       "3  1.562241e+06  \n",
       "4  1.538673e+06  \n",
       "\n",
       "[5 rows x 149 columns]"
      ]
     },
     "execution_count": 15,
     "metadata": {},
     "output_type": "execute_result"
    }
   ],
   "source": [
    "slim_longitudinal.head()"
   ]
  },
  {
   "cell_type": "code",
   "execution_count": 16,
   "metadata": {
    "hidden": true
   },
   "outputs": [
    {
     "name": "stdout",
     "output_type": "stream",
     "text": [
      "<class 'pandas.core.frame.DataFrame'>\n",
      "RangeIndex: 54 entries, 0 to 53\n",
      "Columns: 149 entries, Match_ID to eTIV_y\n",
      "dtypes: float64(140), int64(4), object(5)\n",
      "memory usage: 63.0+ KB\n"
     ]
    }
   ],
   "source": [
    "slim_longitudinal.info()"
   ]
  },
  {
   "cell_type": "markdown",
   "metadata": {
    "heading_collapsed": true
   },
   "source": [
    "# Basic exploration"
   ]
  },
  {
   "cell_type": "markdown",
   "metadata": {
    "hidden": true
   },
   "source": [
    "Here are a few basic plots to get you started:"
   ]
  },
  {
   "cell_type": "code",
   "execution_count": 17,
   "metadata": {
    "hidden": true
   },
   "outputs": [
    {
     "data": {
      "image/png": "[encoded data removed]",
      "text/plain": [
       "<Figure size 432x288 with 1 Axes>"
      ]
     },
     "metadata": {
      "needs_background": "light"
     },
     "output_type": "display_data"
    }
   ],
   "source": [
    "train.Age.hist()\n",
    "plt.show()"
   ]
  },
  {
   "cell_type": "code",
   "execution_count": 18,
   "metadata": {
    "hidden": true
   },
   "outputs": [
    {
     "data": {
      "image/png": "[encoded data removed]",
      "text/plain": [
       "<Figure size 432x288 with 1 Axes>"
      ]
     },
     "metadata": {
      "needs_background": "light"
     },
     "output_type": "display_data"
    }
   ],
   "source": [
    "train.FieldStrength.value_counts().plot(kind='bar')\n",
    "plt.show()"
   ]
  },
  {
   "cell_type": "code",
   "execution_count": 19,
   "metadata": {
    "hidden": true
   },
   "outputs": [],
   "source": [
    "counts = list(train.FieldStrength.value_counts().values) + [train.FieldStrength.isna().sum(),]\n",
    "labels = [\"3T\", \"1.5T\", \"Unknown\"]"
   ]
  },
  {
   "cell_type": "code",
   "execution_count": 20,
   "metadata": {
    "hidden": true
   },
   "outputs": [
    {
     "data": {
      "image/png": "[encoded data removed]",
      "text/plain": [
       "<Figure size 864x432 with 1 Axes>"
      ]
     },
     "metadata": {},
     "output_type": "display_data"
    }
   ],
   "source": [
    "plt.ax = plt.subplots(1, 1, figsize=(12,6))\n",
    "plt.pie(counts, explode=[0.1, 0.1, 0.1], labels=labels, startangle=90, autopct='%1.1f%%', shadow=True)\n",
    "plt.show()"
   ]
  },
  {
   "cell_type": "code",
   "execution_count": 21,
   "metadata": {
    "hidden": true
   },
   "outputs": [
    {
     "data": {
      "image/png": "[encoded data removed]",
      "text/plain": [
       "<Figure size 432x288 with 1 Axes>"
      ]
     },
     "metadata": {
      "needs_background": "light"
     },
     "output_type": "display_data"
    }
   ],
   "source": [
    "fig = sns.boxplot(x='Sex', y='EstimatedTotalIntraCranialVol', data=train)"
   ]
  },
  {
   "cell_type": "markdown",
   "metadata": {},
   "source": [
    "# Feature selection and feature engineering"
   ]
  },
  {
   "cell_type": "markdown",
   "metadata": {},
   "source": [
    "We leave this to you..."
   ]
  },
  {
   "cell_type": "markdown",
   "metadata": {
    "heading_collapsed": true
   },
   "source": [
    "# BrainAge model"
   ]
  },
  {
   "cell_type": "markdown",
   "metadata": {
    "hidden": true
   },
   "source": [
    "As an illustration, here's a very simple approach to create a model and generate some predictions. _You work to improve this!_"
   ]
  },
  {
   "cell_type": "code",
   "execution_count": 22,
   "metadata": {
    "hidden": true
   },
   "outputs": [
    {
     "data": {
      "text/html": [
       "<div>\n",
       "<style scoped>\n",
       "    .dataframe tbody tr th:only-of-type {\n",
       "        vertical-align: middle;\n",
       "    }\n",
       "\n",
       "    .dataframe tbody tr th {\n",
       "        vertical-align: top;\n",
       "    }\n",
       "\n",
       "    .dataframe thead th {\n",
       "        text-align: right;\n",
       "    }\n",
       "</style>\n",
       "<table border=\"1\" class=\"dataframe\">\n",
       "  <thead>\n",
       "    <tr style=\"text-align: right;\">\n",
       "      <th></th>\n",
       "      <th>SubjectID</th>\n",
       "      <th>Source</th>\n",
       "      <th>ID</th>\n",
       "      <th>Sex</th>\n",
       "      <th>Height</th>\n",
       "      <th>Weight</th>\n",
       "      <th>FieldStrength</th>\n",
       "      <th>Handedness</th>\n",
       "      <th>Measure:volume</th>\n",
       "      <th>Left-Lateral-Ventricle</th>\n",
       "      <th>...</th>\n",
       "      <th>rh_superiortemporal_thickness</th>\n",
       "      <th>rh_supramarginal_thickness</th>\n",
       "      <th>rh_frontalpole_thickness</th>\n",
       "      <th>rh_temporalpole_thickness</th>\n",
       "      <th>rh_transversetemporal_thickness</th>\n",
       "      <th>rh_insula_thickness</th>\n",
       "      <th>rh_MeanThickness_thickness</th>\n",
       "      <th>BrainSegVolNotVent</th>\n",
       "      <th>eTIV_y</th>\n",
       "      <th>Age</th>\n",
       "    </tr>\n",
       "  </thead>\n",
       "  <tbody>\n",
       "    <tr>\n",
       "      <td>0</td>\n",
       "      <td>1547</td>\n",
       "      <td>Other</td>\n",
       "      <td>NaN</td>\n",
       "      <td>M</td>\n",
       "      <td>NaN</td>\n",
       "      <td>NaN</td>\n",
       "      <td>NaN</td>\n",
       "      <td>NaN</td>\n",
       "      <td>0</td>\n",
       "      <td>26532.5</td>\n",
       "      <td>...</td>\n",
       "      <td>2.639</td>\n",
       "      <td>2.311</td>\n",
       "      <td>2.317</td>\n",
       "      <td>3.537</td>\n",
       "      <td>2.351</td>\n",
       "      <td>2.799</td>\n",
       "      <td>2.26426</td>\n",
       "      <td>1004741.0</td>\n",
       "      <td>1.397217e+06</td>\n",
       "      <td>78.4</td>\n",
       "    </tr>\n",
       "    <tr>\n",
       "      <td>1</td>\n",
       "      <td>768</td>\n",
       "      <td>SLIM</td>\n",
       "      <td>25825</td>\n",
       "      <td>F</td>\n",
       "      <td>NaN</td>\n",
       "      <td>NaN</td>\n",
       "      <td>3T</td>\n",
       "      <td>NaN</td>\n",
       "      <td>0</td>\n",
       "      <td>2284.7</td>\n",
       "      <td>...</td>\n",
       "      <td>3.104</td>\n",
       "      <td>2.730</td>\n",
       "      <td>3.147</td>\n",
       "      <td>4.030</td>\n",
       "      <td>2.865</td>\n",
       "      <td>3.294</td>\n",
       "      <td>2.73944</td>\n",
       "      <td>1112753.0</td>\n",
       "      <td>1.340906e+06</td>\n",
       "      <td>18.0</td>\n",
       "    </tr>\n",
       "    <tr>\n",
       "      <td>2</td>\n",
       "      <td>2077</td>\n",
       "      <td>SLIM</td>\n",
       "      <td>30901</td>\n",
       "      <td>F</td>\n",
       "      <td>NaN</td>\n",
       "      <td>NaN</td>\n",
       "      <td>3T</td>\n",
       "      <td>NaN</td>\n",
       "      <td>0</td>\n",
       "      <td>3234.5</td>\n",
       "      <td>...</td>\n",
       "      <td>2.982</td>\n",
       "      <td>2.833</td>\n",
       "      <td>2.723</td>\n",
       "      <td>3.224</td>\n",
       "      <td>2.453</td>\n",
       "      <td>3.093</td>\n",
       "      <td>2.63931</td>\n",
       "      <td>1127516.0</td>\n",
       "      <td>1.448150e+06</td>\n",
       "      <td>20.0</td>\n",
       "    </tr>\n",
       "    <tr>\n",
       "      <td>3</td>\n",
       "      <td>2076</td>\n",
       "      <td>SALD</td>\n",
       "      <td>31354</td>\n",
       "      <td>F</td>\n",
       "      <td>NaN</td>\n",
       "      <td>NaN</td>\n",
       "      <td>3T</td>\n",
       "      <td>100.0</td>\n",
       "      <td>0</td>\n",
       "      <td>9019.0</td>\n",
       "      <td>...</td>\n",
       "      <td>2.717</td>\n",
       "      <td>2.486</td>\n",
       "      <td>3.066</td>\n",
       "      <td>3.517</td>\n",
       "      <td>2.439</td>\n",
       "      <td>2.924</td>\n",
       "      <td>2.57008</td>\n",
       "      <td>1011328.0</td>\n",
       "      <td>1.318798e+06</td>\n",
       "      <td>56.0</td>\n",
       "    </tr>\n",
       "    <tr>\n",
       "      <td>4</td>\n",
       "      <td>2488</td>\n",
       "      <td>SLIM</td>\n",
       "      <td>30826</td>\n",
       "      <td>F</td>\n",
       "      <td>NaN</td>\n",
       "      <td>NaN</td>\n",
       "      <td>3T</td>\n",
       "      <td>NaN</td>\n",
       "      <td>0</td>\n",
       "      <td>4964.1</td>\n",
       "      <td>...</td>\n",
       "      <td>2.974</td>\n",
       "      <td>2.642</td>\n",
       "      <td>2.597</td>\n",
       "      <td>3.857</td>\n",
       "      <td>2.541</td>\n",
       "      <td>3.150</td>\n",
       "      <td>2.62909</td>\n",
       "      <td>1121589.0</td>\n",
       "      <td>1.461194e+06</td>\n",
       "      <td>19.0</td>\n",
       "    </tr>\n",
       "  </tbody>\n",
       "</table>\n",
       "<p>5 rows × 150 columns</p>\n",
       "</div>"
      ],
      "text/plain": [
       "   SubjectID Source     ID Sex  Height  Weight FieldStrength  Handedness  \\\n",
       "0       1547  Other    NaN   M     NaN     NaN           NaN         NaN   \n",
       "1        768   SLIM  25825   F     NaN     NaN            3T         NaN   \n",
       "2       2077   SLIM  30901   F     NaN     NaN            3T         NaN   \n",
       "3       2076   SALD  31354   F     NaN     NaN            3T       100.0   \n",
       "4       2488   SLIM  30826   F     NaN     NaN            3T         NaN   \n",
       "\n",
       "   Measure:volume  Left-Lateral-Ventricle  ...  rh_superiortemporal_thickness  \\\n",
       "0               0                 26532.5  ...                          2.639   \n",
       "1               0                  2284.7  ...                          3.104   \n",
       "2               0                  3234.5  ...                          2.982   \n",
       "3               0                  9019.0  ...                          2.717   \n",
       "4               0                  4964.1  ...                          2.974   \n",
       "\n",
       "   rh_supramarginal_thickness  rh_frontalpole_thickness  \\\n",
       "0                       2.311                     2.317   \n",
       "1                       2.730                     3.147   \n",
       "2                       2.833                     2.723   \n",
       "3                       2.486                     3.066   \n",
       "4                       2.642                     2.597   \n",
       "\n",
       "   rh_temporalpole_thickness  rh_transversetemporal_thickness  \\\n",
       "0                      3.537                            2.351   \n",
       "1                      4.030                            2.865   \n",
       "2                      3.224                            2.453   \n",
       "3                      3.517                            2.439   \n",
       "4                      3.857                            2.541   \n",
       "\n",
       "   rh_insula_thickness  rh_MeanThickness_thickness  BrainSegVolNotVent  \\\n",
       "0                2.799                     2.26426           1004741.0   \n",
       "1                3.294                     2.73944           1112753.0   \n",
       "2                3.093                     2.63931           1127516.0   \n",
       "3                2.924                     2.57008           1011328.0   \n",
       "4                3.150                     2.62909           1121589.0   \n",
       "\n",
       "         eTIV_y   Age  \n",
       "0  1.397217e+06  78.4  \n",
       "1  1.340906e+06  18.0  \n",
       "2  1.448150e+06  20.0  \n",
       "3  1.318798e+06  56.0  \n",
       "4  1.461194e+06  19.0  \n",
       "\n",
       "[5 rows x 150 columns]"
      ]
     },
     "execution_count": 22,
     "metadata": {},
     "output_type": "execute_result"
    }
   ],
   "source": [
    "train.head()"
   ]
  },
  {
   "cell_type": "code",
   "execution_count": 23,
   "metadata": {
    "hidden": true
   },
   "outputs": [],
   "source": [
    "# Collect all the numerical Freesurfer features in the train and test set:\n",
    "X = train.drop(columns=['SubjectID', 'Source', 'ID', 'Sex', 'Height', 'Weight', 'FieldStrength', 'Handedness', 'Age'])\n",
    "y = train.Age"
   ]
  },
  {
   "cell_type": "code",
   "execution_count": null,
   "metadata": {
    "hidden": true
   },
   "outputs": [],
   "source": []
  },
  {
   "cell_type": "markdown",
   "metadata": {
    "hidden": true
   },
   "source": [
    "Split off some data to be used to check our model's performance before submission:"
   ]
  },
  {
   "cell_type": "code",
   "execution_count": 24,
   "metadata": {
    "hidden": true
   },
   "outputs": [],
   "source": [
    "from sklearn.model_selection import train_test_split"
   ]
  },
  {
   "cell_type": "code",
   "execution_count": 25,
   "metadata": {
    "hidden": true
   },
   "outputs": [],
   "source": [
    "X_train, X_val, y_train, y_val = train_test_split(X, y, test_size=0.2, random_state=42)"
   ]
  },
  {
   "cell_type": "code",
   "execution_count": 26,
   "metadata": {
    "hidden": true
   },
   "outputs": [],
   "source": [
    "# We'll use a random forest model: \n",
    "from sklearn.ensemble import RandomForestRegressor"
   ]
  },
  {
   "cell_type": "code",
   "execution_count": 27,
   "metadata": {
    "hidden": true
   },
   "outputs": [],
   "source": [
    "rf = RandomForestRegressor(n_estimators=10, random_state=42, n_jobs=-1)"
   ]
  },
  {
   "cell_type": "code",
   "execution_count": 28,
   "metadata": {
    "hidden": true
   },
   "outputs": [
    {
     "data": {
      "text/plain": [
       "RandomForestRegressor(bootstrap=True, criterion='mse', max_depth=None,\n",
       "                      max_features='auto', max_leaf_nodes=None,\n",
       "                      min_impurity_decrease=0.0, min_impurity_split=None,\n",
       "                      min_samples_leaf=1, min_samples_split=2,\n",
       "                      min_weight_fraction_leaf=0.0, n_estimators=10, n_jobs=-1,\n",
       "                      oob_score=False, random_state=42, verbose=0,\n",
       "                      warm_start=False)"
      ]
     },
     "execution_count": 28,
     "metadata": {},
     "output_type": "execute_result"
    }
   ],
   "source": [
    "rf.fit(X_train, y_train)"
   ]
  },
  {
   "cell_type": "markdown",
   "metadata": {
    "hidden": true
   },
   "source": [
    "Check the mean absolute error on the validation set:\n"
   ]
  },
  {
   "cell_type": "code",
   "execution_count": 29,
   "metadata": {
    "hidden": true
   },
   "outputs": [],
   "source": [
    "from sklearn.metrics import mean_absolute_error"
   ]
  },
  {
   "cell_type": "code",
   "execution_count": 30,
   "metadata": {
    "hidden": true
   },
   "outputs": [],
   "source": [
    "y_pred = rf.predict(X_val)"
   ]
  },
  {
   "cell_type": "code",
   "execution_count": 31,
   "metadata": {
    "hidden": true
   },
   "outputs": [
    {
     "data": {
      "text/plain": [
       "6.135326141911932"
      ]
     },
     "execution_count": 31,
     "metadata": {},
     "output_type": "execute_result"
    }
   ],
   "source": [
    "mean_absolute_error(y_val, y_pred)"
   ]
  },
  {
   "cell_type": "markdown",
   "metadata": {
    "hidden": true
   },
   "source": [
    "It's useful to plot our predictions agains the actual ages in the validation set:"
   ]
  },
  {
   "cell_type": "code",
   "execution_count": 32,
   "metadata": {
    "hidden": true
   },
   "outputs": [
    {
     "data": {
      "image/png": "[encoded data removed]",
      "text/plain": [
       "<Figure size 432x288 with 1 Axes>"
      ]
     },
     "metadata": {
      "needs_background": "light"
     },
     "output_type": "display_data"
    }
   ],
   "source": [
    "plt.scatter(y_val, y_pred)\n",
    "plt.show()"
   ]
  },
  {
   "cell_type": "markdown",
   "metadata": {
    "hidden": true
   },
   "source": [
    "Perfect predictions would generate a diagonal line from the bottom left to the top right. We see that our model is not totally useless, but also that it's far from perfect. "
   ]
  },
  {
   "cell_type": "markdown",
   "metadata": {
    "hidden": true
   },
   "source": [
    "It's also useful to take a look at the residuals `y_val - y_preds`. Ideally, these would be close to zero. "
   ]
  },
  {
   "cell_type": "code",
   "execution_count": 33,
   "metadata": {
    "hidden": true
   },
   "outputs": [],
   "source": [
    "y_residuals = y_val - y_pred"
   ]
  },
  {
   "cell_type": "code",
   "execution_count": 34,
   "metadata": {
    "hidden": true
   },
   "outputs": [
    {
     "data": {
      "text/plain": [
       "1831    8.884805\n",
       "1198   -0.100000\n",
       "1461   -3.370000\n",
       "275    -1.800000\n",
       "416    -2.300000\n",
       "1034   -1.600000\n",
       "247     3.895736\n",
       "383    -0.600000\n",
       "322     5.066530\n",
       "203    -1.564750\n",
       "Name: Age, dtype: float64"
      ]
     },
     "execution_count": 34,
     "metadata": {},
     "output_type": "execute_result"
    }
   ],
   "source": [
    "y_residuals[:10]"
   ]
  },
  {
   "cell_type": "code",
   "execution_count": 35,
   "metadata": {
    "hidden": true
   },
   "outputs": [
    {
     "data": {
      "image/png": "[encoded data removed]",
      "text/plain": [
       "<Figure size 864x576 with 1 Axes>"
      ]
     },
     "metadata": {
      "needs_background": "light"
     },
     "output_type": "display_data"
    }
   ],
   "source": [
    "f, ax = plt.subplots(1,1,figsize=(12,8))\n",
    "ax.scatter(y_val, y_residuals)\n",
    "ax.axhline(y=0, xmin=0, xmax=100, linestyle='--', color='#b2b2b2')\n",
    "plt.show()"
   ]
  },
  {
   "cell_type": "markdown",
   "metadata": {
    "hidden": true
   },
   "source": [
    "The relatively large spread around the above diagonal is captured in the large standard deviation of the residuals:"
   ]
  },
  {
   "cell_type": "code",
   "execution_count": 36,
   "metadata": {
    "hidden": true
   },
   "outputs": [
    {
     "data": {
      "text/plain": [
       "8.459426900932156"
      ]
     },
     "execution_count": 36,
     "metadata": {},
     "output_type": "execute_result"
    }
   ],
   "source": [
    "y_residuals.std()"
   ]
  },
  {
   "cell_type": "markdown",
   "metadata": {
    "heading_collapsed": true
   },
   "source": [
    "# Submission"
   ]
  },
  {
   "cell_type": "markdown",
   "metadata": {
    "hidden": true
   },
   "source": [
    "After training your model and found predictions for the test data you have to create a CSV file containing `SubjectID` and your predictions in its two columns. "
   ]
  },
  {
   "cell_type": "markdown",
   "metadata": {
    "hidden": true
   },
   "source": [
    "Let's produce some predictions using the above model: "
   ]
  },
  {
   "cell_type": "markdown",
   "metadata": {
    "hidden": true
   },
   "source": [
    "> **A tip:** You can retrain the model with the validation data used as training data. This exposes your model to slightly more data before it makes predictions on the test set."
   ]
  },
  {
   "cell_type": "code",
   "execution_count": 37,
   "metadata": {
    "hidden": true
   },
   "outputs": [
    {
     "data": {
      "text/html": [
       "<div>\n",
       "<style scoped>\n",
       "    .dataframe tbody tr th:only-of-type {\n",
       "        vertical-align: middle;\n",
       "    }\n",
       "\n",
       "    .dataframe tbody tr th {\n",
       "        vertical-align: top;\n",
       "    }\n",
       "\n",
       "    .dataframe thead th {\n",
       "        text-align: right;\n",
       "    }\n",
       "</style>\n",
       "<table border=\"1\" class=\"dataframe\">\n",
       "  <thead>\n",
       "    <tr style=\"text-align: right;\">\n",
       "      <th></th>\n",
       "      <th>SubjectID</th>\n",
       "      <th>Sex</th>\n",
       "      <th>Measure:volume</th>\n",
       "      <th>Left-Lateral-Ventricle</th>\n",
       "      <th>Left-Inf-Lat-Vent</th>\n",
       "      <th>Left-Cerebellum-White-Matter</th>\n",
       "      <th>Left-Cerebellum-Cortex</th>\n",
       "      <th>Left-Thalamus-Proper</th>\n",
       "      <th>Left-Caudate</th>\n",
       "      <th>Left-Putamen</th>\n",
       "      <th>...</th>\n",
       "      <th>rh_superiorparietal_thickness</th>\n",
       "      <th>rh_superiortemporal_thickness</th>\n",
       "      <th>rh_supramarginal_thickness</th>\n",
       "      <th>rh_frontalpole_thickness</th>\n",
       "      <th>rh_temporalpole_thickness</th>\n",
       "      <th>rh_transversetemporal_thickness</th>\n",
       "      <th>rh_insula_thickness</th>\n",
       "      <th>rh_MeanThickness_thickness</th>\n",
       "      <th>BrainSegVolNotVent</th>\n",
       "      <th>eTIV_y</th>\n",
       "    </tr>\n",
       "  </thead>\n",
       "  <tbody>\n",
       "    <tr>\n",
       "      <td>0</td>\n",
       "      <td>1541</td>\n",
       "      <td>M</td>\n",
       "      <td>0</td>\n",
       "      <td>5854.8</td>\n",
       "      <td>215.5</td>\n",
       "      <td>15457.1</td>\n",
       "      <td>53968.8</td>\n",
       "      <td>6838.4</td>\n",
       "      <td>3138.6</td>\n",
       "      <td>4808.5</td>\n",
       "      <td>...</td>\n",
       "      <td>2.133</td>\n",
       "      <td>2.554</td>\n",
       "      <td>2.337</td>\n",
       "      <td>2.774</td>\n",
       "      <td>3.827</td>\n",
       "      <td>2.018</td>\n",
       "      <td>2.947</td>\n",
       "      <td>2.37916</td>\n",
       "      <td>1006715.0</td>\n",
       "      <td>1.351564e+06</td>\n",
       "    </tr>\n",
       "    <tr>\n",
       "      <td>1</td>\n",
       "      <td>494</td>\n",
       "      <td>M</td>\n",
       "      <td>0</td>\n",
       "      <td>6224.2</td>\n",
       "      <td>306.6</td>\n",
       "      <td>16640.6</td>\n",
       "      <td>56960.1</td>\n",
       "      <td>7633.4</td>\n",
       "      <td>2850.5</td>\n",
       "      <td>4416.0</td>\n",
       "      <td>...</td>\n",
       "      <td>2.224</td>\n",
       "      <td>3.003</td>\n",
       "      <td>2.622</td>\n",
       "      <td>2.986</td>\n",
       "      <td>4.340</td>\n",
       "      <td>2.550</td>\n",
       "      <td>3.258</td>\n",
       "      <td>2.59318</td>\n",
       "      <td>1131844.0</td>\n",
       "      <td>1.378325e+06</td>\n",
       "    </tr>\n",
       "    <tr>\n",
       "      <td>2</td>\n",
       "      <td>771</td>\n",
       "      <td>F</td>\n",
       "      <td>0</td>\n",
       "      <td>7119.3</td>\n",
       "      <td>302.9</td>\n",
       "      <td>17132.6</td>\n",
       "      <td>60629.2</td>\n",
       "      <td>8369.9</td>\n",
       "      <td>3678.7</td>\n",
       "      <td>4961.7</td>\n",
       "      <td>...</td>\n",
       "      <td>2.377</td>\n",
       "      <td>3.076</td>\n",
       "      <td>2.658</td>\n",
       "      <td>2.961</td>\n",
       "      <td>3.074</td>\n",
       "      <td>2.601</td>\n",
       "      <td>3.308</td>\n",
       "      <td>2.65192</td>\n",
       "      <td>1178012.0</td>\n",
       "      <td>1.487637e+06</td>\n",
       "    </tr>\n",
       "    <tr>\n",
       "      <td>3</td>\n",
       "      <td>397</td>\n",
       "      <td>M</td>\n",
       "      <td>0</td>\n",
       "      <td>8142.8</td>\n",
       "      <td>592.2</td>\n",
       "      <td>14954.5</td>\n",
       "      <td>61128.1</td>\n",
       "      <td>9311.8</td>\n",
       "      <td>3914.3</td>\n",
       "      <td>6324.5</td>\n",
       "      <td>...</td>\n",
       "      <td>2.302</td>\n",
       "      <td>3.030</td>\n",
       "      <td>2.618</td>\n",
       "      <td>3.196</td>\n",
       "      <td>3.622</td>\n",
       "      <td>2.503</td>\n",
       "      <td>3.109</td>\n",
       "      <td>2.60034</td>\n",
       "      <td>1271484.0</td>\n",
       "      <td>1.680459e+06</td>\n",
       "    </tr>\n",
       "    <tr>\n",
       "      <td>4</td>\n",
       "      <td>2398</td>\n",
       "      <td>M</td>\n",
       "      <td>0</td>\n",
       "      <td>21841.9</td>\n",
       "      <td>519.4</td>\n",
       "      <td>16929.6</td>\n",
       "      <td>58449.9</td>\n",
       "      <td>6978.4</td>\n",
       "      <td>3338.0</td>\n",
       "      <td>4578.8</td>\n",
       "      <td>...</td>\n",
       "      <td>1.931</td>\n",
       "      <td>2.388</td>\n",
       "      <td>2.167</td>\n",
       "      <td>2.388</td>\n",
       "      <td>3.499</td>\n",
       "      <td>1.755</td>\n",
       "      <td>2.527</td>\n",
       "      <td>2.20198</td>\n",
       "      <td>1203519.0</td>\n",
       "      <td>1.741686e+06</td>\n",
       "    </tr>\n",
       "  </tbody>\n",
       "</table>\n",
       "<p>5 rows × 143 columns</p>\n",
       "</div>"
      ],
      "text/plain": [
       "   SubjectID Sex  Measure:volume  Left-Lateral-Ventricle  Left-Inf-Lat-Vent  \\\n",
       "0       1541   M               0                  5854.8              215.5   \n",
       "1        494   M               0                  6224.2              306.6   \n",
       "2        771   F               0                  7119.3              302.9   \n",
       "3        397   M               0                  8142.8              592.2   \n",
       "4       2398   M               0                 21841.9              519.4   \n",
       "\n",
       "   Left-Cerebellum-White-Matter  Left-Cerebellum-Cortex  Left-Thalamus-Proper  \\\n",
       "0                       15457.1                 53968.8                6838.4   \n",
       "1                       16640.6                 56960.1                7633.4   \n",
       "2                       17132.6                 60629.2                8369.9   \n",
       "3                       14954.5                 61128.1                9311.8   \n",
       "4                       16929.6                 58449.9                6978.4   \n",
       "\n",
       "   Left-Caudate  Left-Putamen  ...  rh_superiorparietal_thickness  \\\n",
       "0        3138.6        4808.5  ...                          2.133   \n",
       "1        2850.5        4416.0  ...                          2.224   \n",
       "2        3678.7        4961.7  ...                          2.377   \n",
       "3        3914.3        6324.5  ...                          2.302   \n",
       "4        3338.0        4578.8  ...                          1.931   \n",
       "\n",
       "   rh_superiortemporal_thickness  rh_supramarginal_thickness  \\\n",
       "0                          2.554                       2.337   \n",
       "1                          3.003                       2.622   \n",
       "2                          3.076                       2.658   \n",
       "3                          3.030                       2.618   \n",
       "4                          2.388                       2.167   \n",
       "\n",
       "   rh_frontalpole_thickness  rh_temporalpole_thickness  \\\n",
       "0                     2.774                      3.827   \n",
       "1                     2.986                      4.340   \n",
       "2                     2.961                      3.074   \n",
       "3                     3.196                      3.622   \n",
       "4                     2.388                      3.499   \n",
       "\n",
       "   rh_transversetemporal_thickness  rh_insula_thickness  \\\n",
       "0                            2.018                2.947   \n",
       "1                            2.550                3.258   \n",
       "2                            2.601                3.308   \n",
       "3                            2.503                3.109   \n",
       "4                            1.755                2.527   \n",
       "\n",
       "   rh_MeanThickness_thickness  BrainSegVolNotVent        eTIV_y  \n",
       "0                     2.37916           1006715.0  1.351564e+06  \n",
       "1                     2.59318           1131844.0  1.378325e+06  \n",
       "2                     2.65192           1178012.0  1.487637e+06  \n",
       "3                     2.60034           1271484.0  1.680459e+06  \n",
       "4                     2.20198           1203519.0  1.741686e+06  \n",
       "\n",
       "[5 rows x 143 columns]"
      ]
     },
     "execution_count": 37,
     "metadata": {},
     "output_type": "execute_result"
    }
   ],
   "source": [
    "test.head()"
   ]
  },
  {
   "cell_type": "code",
   "execution_count": 38,
   "metadata": {
    "hidden": true
   },
   "outputs": [],
   "source": [
    "# We have to drop the columns not used when constructing the model:\n",
    "X_test = test.drop(columns=['SubjectID', 'Sex'])"
   ]
  },
  {
   "cell_type": "code",
   "execution_count": 39,
   "metadata": {
    "hidden": true
   },
   "outputs": [],
   "source": [
    "predicted_ages = rf.predict(X_test)"
   ]
  },
  {
   "cell_type": "code",
   "execution_count": 40,
   "metadata": {
    "hidden": true
   },
   "outputs": [
    {
     "data": {
      "text/plain": [
       "(625,)"
      ]
     },
     "execution_count": 40,
     "metadata": {},
     "output_type": "execute_result"
    }
   ],
   "source": [
    "# We get 625 predictions:\n",
    "predicted_ages.shape"
   ]
  },
  {
   "cell_type": "code",
   "execution_count": 41,
   "metadata": {
    "hidden": true
   },
   "outputs": [
    {
     "data": {
      "text/plain": [
       "array([54.78695414, 33.04175222, 20.5       , 21.4       , 78.09      ,\n",
       "       50.8670089 , 57.35100616, 29.75708419, 26.82402464, 69.12758385])"
      ]
     },
     "execution_count": 41,
     "metadata": {},
     "output_type": "execute_result"
    }
   ],
   "source": [
    "# Here are the first 10 predictions\n",
    "predicted_ages[:10]"
   ]
  },
  {
   "cell_type": "markdown",
   "metadata": {
    "hidden": true
   },
   "source": [
    "Here's one way to make a submission file:**"
   ]
  },
  {
   "cell_type": "code",
   "execution_count": 42,
   "metadata": {
    "hidden": true
   },
   "outputs": [],
   "source": [
    "submission = pd.DataFrame({'ID': test.SubjectID, 'label': predicted_ages})"
   ]
  },
  {
   "cell_type": "code",
   "execution_count": 43,
   "metadata": {
    "hidden": true
   },
   "outputs": [
    {
     "data": {
      "text/html": [
       "<div>\n",
       "<style scoped>\n",
       "    .dataframe tbody tr th:only-of-type {\n",
       "        vertical-align: middle;\n",
       "    }\n",
       "\n",
       "    .dataframe tbody tr th {\n",
       "        vertical-align: top;\n",
       "    }\n",
       "\n",
       "    .dataframe thead th {\n",
       "        text-align: right;\n",
       "    }\n",
       "</style>\n",
       "<table border=\"1\" class=\"dataframe\">\n",
       "  <thead>\n",
       "    <tr style=\"text-align: right;\">\n",
       "      <th></th>\n",
       "      <th>ID</th>\n",
       "      <th>label</th>\n",
       "    </tr>\n",
       "  </thead>\n",
       "  <tbody>\n",
       "    <tr>\n",
       "      <td>0</td>\n",
       "      <td>1541</td>\n",
       "      <td>54.786954</td>\n",
       "    </tr>\n",
       "    <tr>\n",
       "      <td>1</td>\n",
       "      <td>494</td>\n",
       "      <td>33.041752</td>\n",
       "    </tr>\n",
       "    <tr>\n",
       "      <td>2</td>\n",
       "      <td>771</td>\n",
       "      <td>20.500000</td>\n",
       "    </tr>\n",
       "    <tr>\n",
       "      <td>3</td>\n",
       "      <td>397</td>\n",
       "      <td>21.400000</td>\n",
       "    </tr>\n",
       "    <tr>\n",
       "      <td>4</td>\n",
       "      <td>2398</td>\n",
       "      <td>78.090000</td>\n",
       "    </tr>\n",
       "  </tbody>\n",
       "</table>\n",
       "</div>"
      ],
      "text/plain": [
       "     ID      label\n",
       "0  1541  54.786954\n",
       "1   494  33.041752\n",
       "2   771  20.500000\n",
       "3   397  21.400000\n",
       "4  2398  78.090000"
      ]
     },
     "execution_count": 43,
     "metadata": {},
     "output_type": "execute_result"
    }
   ],
   "source": [
    "submission.head()"
   ]
  },
  {
   "cell_type": "code",
   "execution_count": 44,
   "metadata": {
    "hidden": true
   },
   "outputs": [],
   "source": [
    "submission.to_csv('submission.csv', index=False)"
   ]
  },
  {
   "cell_type": "markdown",
   "metadata": {
    "hidden": true
   },
   "source": [
    "## If you're using a Kaggle kernel"
   ]
  },
  {
   "cell_type": "markdown",
   "metadata": {
    "hidden": true
   },
   "source": [
    "After clicking \"Publish\" you will find a tab called \"Output\" in the top menu. If you click this you'll find \"Submit to competition\"."
   ]
  },
  {
   "cell_type": "markdown",
   "metadata": {
    "hidden": true
   },
   "source": [
    "## If you're using Colab"
   ]
  },
  {
   "cell_type": "markdown",
   "metadata": {
    "hidden": true
   },
   "source": [
    "Click \"Files\" on the left. You'll find `submission.csv` in the folder `Content`."
   ]
  },
  {
   "cell_type": "markdown",
   "metadata": {},
   "source": [
    "# Further explorations of the data and model"
   ]
  },
  {
   "cell_type": "markdown",
   "metadata": {},
   "source": [
    "A score on the leaderboard is the goal of Part 1 of the challenge. In Part 2 (the more interesting and important part) you're asked to study the data and your results more carefully.  "
   ]
  },
  {
   "cell_type": "markdown",
   "metadata": {},
   "source": [
    "You can investigate performance for various age groups, performance on the different data set sources, gender differences, use the raw Freesurfer ourput data linked to on Kaggle, and so on. Whatever you find interesting!"
   ]
  },
  {
   "cell_type": "markdown",
   "metadata": {},
   "source": [
    "One natural thing to look into is the how your model performs _longitudinally_. We can use the provided longitudinal data to investigate model robustness by feeding it data from subjects scanned several times. Does the brain age track the chronological age for healthy subjects? If the model (and data) is sufficiently robust, that should be the case, at least to a reasonable extent. "
   ]
  },
  {
   "cell_type": "markdown",
   "metadata": {},
   "source": [
    "## Longitudinal data"
   ]
  },
  {
   "cell_type": "markdown",
   "metadata": {},
   "source": [
    "Here's our longitudinal data set:"
   ]
  },
  {
   "cell_type": "code",
   "execution_count": 45,
   "metadata": {},
   "outputs": [
    {
     "data": {
      "text/html": [
       "<div>\n",
       "<style scoped>\n",
       "    .dataframe tbody tr th:only-of-type {\n",
       "        vertical-align: middle;\n",
       "    }\n",
       "\n",
       "    .dataframe tbody tr th {\n",
       "        vertical-align: top;\n",
       "    }\n",
       "\n",
       "    .dataframe thead th {\n",
       "        text-align: right;\n",
       "    }\n",
       "</style>\n",
       "<table border=\"1\" class=\"dataframe\">\n",
       "  <thead>\n",
       "    <tr style=\"text-align: right;\">\n",
       "      <th></th>\n",
       "      <th>Match_ID</th>\n",
       "      <th>age_at_Scan1</th>\n",
       "      <th>Sex</th>\n",
       "      <th>anat</th>\n",
       "      <th>func</th>\n",
       "      <th>DTI</th>\n",
       "      <th>Scan_Time</th>\n",
       "      <th>Session</th>\n",
       "      <th>ID</th>\n",
       "      <th>Measure:volume</th>\n",
       "      <th>...</th>\n",
       "      <th>rh_superiorparietal_thickness</th>\n",
       "      <th>rh_superiortemporal_thickness</th>\n",
       "      <th>rh_supramarginal_thickness</th>\n",
       "      <th>rh_frontalpole_thickness</th>\n",
       "      <th>rh_temporalpole_thickness</th>\n",
       "      <th>rh_transversetemporal_thickness</th>\n",
       "      <th>rh_insula_thickness</th>\n",
       "      <th>rh_MeanThickness_thickness</th>\n",
       "      <th>BrainSegVolNotVent</th>\n",
       "      <th>eTIV_y</th>\n",
       "    </tr>\n",
       "  </thead>\n",
       "  <tbody>\n",
       "    <tr>\n",
       "      <td>0</td>\n",
       "      <td>25632</td>\n",
       "      <td>20.0</td>\n",
       "      <td>male</td>\n",
       "      <td>1</td>\n",
       "      <td>1.0</td>\n",
       "      <td>1.0</td>\n",
       "      <td>'20-Nov-2011'</td>\n",
       "      <td>1</td>\n",
       "      <td>sub-25632-ses1.long.sub-25632</td>\n",
       "      <td>0</td>\n",
       "      <td>...</td>\n",
       "      <td>2.481</td>\n",
       "      <td>3.017</td>\n",
       "      <td>2.842</td>\n",
       "      <td>2.934</td>\n",
       "      <td>4.204</td>\n",
       "      <td>2.363</td>\n",
       "      <td>3.191</td>\n",
       "      <td>2.68579</td>\n",
       "      <td>1132057.0</td>\n",
       "      <td>1.472476e+06</td>\n",
       "    </tr>\n",
       "    <tr>\n",
       "      <td>1</td>\n",
       "      <td>25633</td>\n",
       "      <td>18.0</td>\n",
       "      <td>female</td>\n",
       "      <td>1</td>\n",
       "      <td>1.0</td>\n",
       "      <td>1.0</td>\n",
       "      <td>'20-Nov-2011'</td>\n",
       "      <td>1</td>\n",
       "      <td>sub-25633-ses1.long.sub-25633</td>\n",
       "      <td>0</td>\n",
       "      <td>...</td>\n",
       "      <td>2.397</td>\n",
       "      <td>2.894</td>\n",
       "      <td>2.719</td>\n",
       "      <td>3.096</td>\n",
       "      <td>4.169</td>\n",
       "      <td>2.473</td>\n",
       "      <td>3.144</td>\n",
       "      <td>2.64881</td>\n",
       "      <td>1074396.0</td>\n",
       "      <td>1.399950e+06</td>\n",
       "    </tr>\n",
       "    <tr>\n",
       "      <td>2</td>\n",
       "      <td>25635</td>\n",
       "      <td>20.0</td>\n",
       "      <td>male</td>\n",
       "      <td>1</td>\n",
       "      <td>1.0</td>\n",
       "      <td>1.0</td>\n",
       "      <td>'26-Nov-2011'</td>\n",
       "      <td>1</td>\n",
       "      <td>sub-25635-ses1.long.sub-25635</td>\n",
       "      <td>0</td>\n",
       "      <td>...</td>\n",
       "      <td>2.502</td>\n",
       "      <td>3.065</td>\n",
       "      <td>2.854</td>\n",
       "      <td>3.061</td>\n",
       "      <td>3.751</td>\n",
       "      <td>2.674</td>\n",
       "      <td>3.330</td>\n",
       "      <td>2.71324</td>\n",
       "      <td>1163072.0</td>\n",
       "      <td>1.528341e+06</td>\n",
       "    </tr>\n",
       "    <tr>\n",
       "      <td>3</td>\n",
       "      <td>25637</td>\n",
       "      <td>21.0</td>\n",
       "      <td>female</td>\n",
       "      <td>1</td>\n",
       "      <td>1.0</td>\n",
       "      <td>1.0</td>\n",
       "      <td>'03-Apr-2012'</td>\n",
       "      <td>1</td>\n",
       "      <td>sub-25637-ses1.long.sub-25637</td>\n",
       "      <td>0</td>\n",
       "      <td>...</td>\n",
       "      <td>2.447</td>\n",
       "      <td>2.977</td>\n",
       "      <td>2.816</td>\n",
       "      <td>3.025</td>\n",
       "      <td>3.756</td>\n",
       "      <td>2.637</td>\n",
       "      <td>3.382</td>\n",
       "      <td>2.75153</td>\n",
       "      <td>1198812.0</td>\n",
       "      <td>1.562241e+06</td>\n",
       "    </tr>\n",
       "    <tr>\n",
       "      <td>4</td>\n",
       "      <td>25642</td>\n",
       "      <td>22.0</td>\n",
       "      <td>female</td>\n",
       "      <td>1</td>\n",
       "      <td>1.0</td>\n",
       "      <td>1.0</td>\n",
       "      <td>'04-Jul-2012'</td>\n",
       "      <td>1</td>\n",
       "      <td>sub-25642-ses1.long.sub-25642</td>\n",
       "      <td>0</td>\n",
       "      <td>...</td>\n",
       "      <td>2.349</td>\n",
       "      <td>2.908</td>\n",
       "      <td>2.608</td>\n",
       "      <td>2.686</td>\n",
       "      <td>3.680</td>\n",
       "      <td>2.502</td>\n",
       "      <td>3.287</td>\n",
       "      <td>2.59840</td>\n",
       "      <td>1151106.0</td>\n",
       "      <td>1.538673e+06</td>\n",
       "    </tr>\n",
       "  </tbody>\n",
       "</table>\n",
       "<p>5 rows × 149 columns</p>\n",
       "</div>"
      ],
      "text/plain": [
       "   Match_ID  age_at_Scan1     Sex  anat  func  DTI      Scan_Time  Session  \\\n",
       "0     25632          20.0    male     1   1.0  1.0  '20-Nov-2011'        1   \n",
       "1     25633          18.0  female     1   1.0  1.0  '20-Nov-2011'        1   \n",
       "2     25635          20.0    male     1   1.0  1.0  '26-Nov-2011'        1   \n",
       "3     25637          21.0  female     1   1.0  1.0  '03-Apr-2012'        1   \n",
       "4     25642          22.0  female     1   1.0  1.0  '04-Jul-2012'        1   \n",
       "\n",
       "                              ID  Measure:volume  ...  \\\n",
       "0  sub-25632-ses1.long.sub-25632               0  ...   \n",
       "1  sub-25633-ses1.long.sub-25633               0  ...   \n",
       "2  sub-25635-ses1.long.sub-25635               0  ...   \n",
       "3  sub-25637-ses1.long.sub-25637               0  ...   \n",
       "4  sub-25642-ses1.long.sub-25642               0  ...   \n",
       "\n",
       "   rh_superiorparietal_thickness  rh_superiortemporal_thickness  \\\n",
       "0                          2.481                          3.017   \n",
       "1                          2.397                          2.894   \n",
       "2                          2.502                          3.065   \n",
       "3                          2.447                          2.977   \n",
       "4                          2.349                          2.908   \n",
       "\n",
       "   rh_supramarginal_thickness  rh_frontalpole_thickness  \\\n",
       "0                       2.842                     2.934   \n",
       "1                       2.719                     3.096   \n",
       "2                       2.854                     3.061   \n",
       "3                       2.816                     3.025   \n",
       "4                       2.608                     2.686   \n",
       "\n",
       "   rh_temporalpole_thickness  rh_transversetemporal_thickness  \\\n",
       "0                      4.204                            2.363   \n",
       "1                      4.169                            2.473   \n",
       "2                      3.751                            2.674   \n",
       "3                      3.756                            2.637   \n",
       "4                      3.680                            2.502   \n",
       "\n",
       "   rh_insula_thickness  rh_MeanThickness_thickness  BrainSegVolNotVent  \\\n",
       "0                3.191                     2.68579           1132057.0   \n",
       "1                3.144                     2.64881           1074396.0   \n",
       "2                3.330                     2.71324           1163072.0   \n",
       "3                3.382                     2.75153           1198812.0   \n",
       "4                3.287                     2.59840           1151106.0   \n",
       "\n",
       "         eTIV_y  \n",
       "0  1.472476e+06  \n",
       "1  1.399950e+06  \n",
       "2  1.528341e+06  \n",
       "3  1.562241e+06  \n",
       "4  1.538673e+06  \n",
       "\n",
       "[5 rows x 149 columns]"
      ]
     },
     "execution_count": 45,
     "metadata": {},
     "output_type": "execute_result"
    }
   ],
   "source": [
    "slim_longitudinal.head()"
   ]
  },
  {
   "cell_type": "markdown",
   "metadata": {},
   "source": [
    "There are 18 different subjects, each scanned three times (sourced from the SLIM data set):"
   ]
  },
  {
   "cell_type": "code",
   "execution_count": 46,
   "metadata": {},
   "outputs": [
    {
     "data": {
      "text/plain": [
       "(18,\n",
       " [25632,\n",
       "  25633,\n",
       "  25665,\n",
       "  25635,\n",
       "  25666,\n",
       "  25637,\n",
       "  25667,\n",
       "  25668,\n",
       "  25669,\n",
       "  25672,\n",
       "  25642,\n",
       "  25644,\n",
       "  25646,\n",
       "  25647,\n",
       "  25652,\n",
       "  25659,\n",
       "  25661,\n",
       "  25662])"
      ]
     },
     "execution_count": 46,
     "metadata": {},
     "output_type": "execute_result"
    }
   ],
   "source": [
    "long_subject_ids = list(set(slim_longitudinal.Match_ID))\n",
    "len(long_subject_ids), long_subject_ids"
   ]
  },
  {
   "cell_type": "markdown",
   "metadata": {},
   "source": [
    "Here's one subject:"
   ]
  },
  {
   "cell_type": "code",
   "execution_count": 47,
   "metadata": {},
   "outputs": [],
   "source": [
    "test_subject = 25632"
   ]
  },
  {
   "cell_type": "code",
   "execution_count": 48,
   "metadata": {},
   "outputs": [
    {
     "data": {
      "text/html": [
       "<div>\n",
       "<style scoped>\n",
       "    .dataframe tbody tr th:only-of-type {\n",
       "        vertical-align: middle;\n",
       "    }\n",
       "\n",
       "    .dataframe tbody tr th {\n",
       "        vertical-align: top;\n",
       "    }\n",
       "\n",
       "    .dataframe thead th {\n",
       "        text-align: right;\n",
       "    }\n",
       "</style>\n",
       "<table border=\"1\" class=\"dataframe\">\n",
       "  <thead>\n",
       "    <tr style=\"text-align: right;\">\n",
       "      <th></th>\n",
       "      <th>Match_ID</th>\n",
       "      <th>age_at_Scan1</th>\n",
       "      <th>Sex</th>\n",
       "      <th>anat</th>\n",
       "      <th>func</th>\n",
       "      <th>DTI</th>\n",
       "      <th>Scan_Time</th>\n",
       "      <th>Session</th>\n",
       "      <th>ID</th>\n",
       "      <th>Measure:volume</th>\n",
       "      <th>...</th>\n",
       "      <th>rh_superiorparietal_thickness</th>\n",
       "      <th>rh_superiortemporal_thickness</th>\n",
       "      <th>rh_supramarginal_thickness</th>\n",
       "      <th>rh_frontalpole_thickness</th>\n",
       "      <th>rh_temporalpole_thickness</th>\n",
       "      <th>rh_transversetemporal_thickness</th>\n",
       "      <th>rh_insula_thickness</th>\n",
       "      <th>rh_MeanThickness_thickness</th>\n",
       "      <th>BrainSegVolNotVent</th>\n",
       "      <th>eTIV_y</th>\n",
       "    </tr>\n",
       "  </thead>\n",
       "  <tbody>\n",
       "    <tr>\n",
       "      <td>0</td>\n",
       "      <td>25632</td>\n",
       "      <td>20.0</td>\n",
       "      <td>male</td>\n",
       "      <td>1</td>\n",
       "      <td>1.0</td>\n",
       "      <td>1.0</td>\n",
       "      <td>'20-Nov-2011'</td>\n",
       "      <td>1</td>\n",
       "      <td>sub-25632-ses1.long.sub-25632</td>\n",
       "      <td>0</td>\n",
       "      <td>...</td>\n",
       "      <td>2.481</td>\n",
       "      <td>3.017</td>\n",
       "      <td>2.842</td>\n",
       "      <td>2.934</td>\n",
       "      <td>4.204</td>\n",
       "      <td>2.363</td>\n",
       "      <td>3.191</td>\n",
       "      <td>2.68579</td>\n",
       "      <td>1132057.0</td>\n",
       "      <td>1.472476e+06</td>\n",
       "    </tr>\n",
       "    <tr>\n",
       "      <td>18</td>\n",
       "      <td>25632</td>\n",
       "      <td>NaN</td>\n",
       "      <td>male</td>\n",
       "      <td>1</td>\n",
       "      <td>1.0</td>\n",
       "      <td>1.0</td>\n",
       "      <td>'04-May-2013'</td>\n",
       "      <td>2</td>\n",
       "      <td>sub-25632-ses2.long.sub-25632</td>\n",
       "      <td>0</td>\n",
       "      <td>...</td>\n",
       "      <td>2.422</td>\n",
       "      <td>2.931</td>\n",
       "      <td>2.770</td>\n",
       "      <td>3.043</td>\n",
       "      <td>4.069</td>\n",
       "      <td>2.154</td>\n",
       "      <td>3.184</td>\n",
       "      <td>2.63230</td>\n",
       "      <td>1123829.0</td>\n",
       "      <td>1.472476e+06</td>\n",
       "    </tr>\n",
       "    <tr>\n",
       "      <td>36</td>\n",
       "      <td>25632</td>\n",
       "      <td>NaN</td>\n",
       "      <td>male</td>\n",
       "      <td>1</td>\n",
       "      <td>1.0</td>\n",
       "      <td>1.0</td>\n",
       "      <td>'05-Dec-2014'</td>\n",
       "      <td>3</td>\n",
       "      <td>sub-25632-ses3.long.sub-25632</td>\n",
       "      <td>0</td>\n",
       "      <td>...</td>\n",
       "      <td>2.454</td>\n",
       "      <td>2.962</td>\n",
       "      <td>2.793</td>\n",
       "      <td>2.949</td>\n",
       "      <td>3.996</td>\n",
       "      <td>2.180</td>\n",
       "      <td>3.221</td>\n",
       "      <td>2.63878</td>\n",
       "      <td>1124327.0</td>\n",
       "      <td>1.472476e+06</td>\n",
       "    </tr>\n",
       "  </tbody>\n",
       "</table>\n",
       "<p>3 rows × 149 columns</p>\n",
       "</div>"
      ],
      "text/plain": [
       "    Match_ID  age_at_Scan1   Sex  anat  func  DTI      Scan_Time  Session  \\\n",
       "0      25632          20.0  male     1   1.0  1.0  '20-Nov-2011'        1   \n",
       "18     25632           NaN  male     1   1.0  1.0  '04-May-2013'        2   \n",
       "36     25632           NaN  male     1   1.0  1.0  '05-Dec-2014'        3   \n",
       "\n",
       "                               ID  Measure:volume  ...  \\\n",
       "0   sub-25632-ses1.long.sub-25632               0  ...   \n",
       "18  sub-25632-ses2.long.sub-25632               0  ...   \n",
       "36  sub-25632-ses3.long.sub-25632               0  ...   \n",
       "\n",
       "    rh_superiorparietal_thickness  rh_superiortemporal_thickness  \\\n",
       "0                           2.481                          3.017   \n",
       "18                          2.422                          2.931   \n",
       "36                          2.454                          2.962   \n",
       "\n",
       "    rh_supramarginal_thickness  rh_frontalpole_thickness  \\\n",
       "0                        2.842                     2.934   \n",
       "18                       2.770                     3.043   \n",
       "36                       2.793                     2.949   \n",
       "\n",
       "    rh_temporalpole_thickness  rh_transversetemporal_thickness  \\\n",
       "0                       4.204                            2.363   \n",
       "18                      4.069                            2.154   \n",
       "36                      3.996                            2.180   \n",
       "\n",
       "    rh_insula_thickness  rh_MeanThickness_thickness  BrainSegVolNotVent  \\\n",
       "0                 3.191                     2.68579           1132057.0   \n",
       "18                3.184                     2.63230           1123829.0   \n",
       "36                3.221                     2.63878           1124327.0   \n",
       "\n",
       "          eTIV_y  \n",
       "0   1.472476e+06  \n",
       "18  1.472476e+06  \n",
       "36  1.472476e+06  \n",
       "\n",
       "[3 rows x 149 columns]"
      ]
     },
     "execution_count": 48,
     "metadata": {},
     "output_type": "execute_result"
    }
   ],
   "source": [
    "test_subject_scans = slim_longitudinal.loc[ slim_longitudinal.Match_ID == test_subject ]\n",
    "test_subject_scans"
   ]
  },
  {
   "cell_type": "markdown",
   "metadata": {},
   "source": [
    "We note that the ages in the second and third sessions are not marked. But we have the date of scan (`Scan_Time`) and the age at the first scan. \n",
    "\n",
    "Let's use this to add a new column with all ages indicated."
   ]
  },
  {
   "cell_type": "code",
   "execution_count": 49,
   "metadata": {},
   "outputs": [],
   "source": [
    "# Grab the Session 1 scan (baseline scan) for a subject:\n",
    "def get_bl(subject):\n",
    "    subject = int(subject)\n",
    "    subject_df =  slim_longitudinal.loc[slim_longitudinal.Match_ID == subject]\n",
    "    return subject_df.loc[subject_df.Session == 1]"
   ]
  },
  {
   "cell_type": "code",
   "execution_count": 50,
   "metadata": {},
   "outputs": [
    {
     "data": {
      "text/html": [
       "<div>\n",
       "<style scoped>\n",
       "    .dataframe tbody tr th:only-of-type {\n",
       "        vertical-align: middle;\n",
       "    }\n",
       "\n",
       "    .dataframe tbody tr th {\n",
       "        vertical-align: top;\n",
       "    }\n",
       "\n",
       "    .dataframe thead th {\n",
       "        text-align: right;\n",
       "    }\n",
       "</style>\n",
       "<table border=\"1\" class=\"dataframe\">\n",
       "  <thead>\n",
       "    <tr style=\"text-align: right;\">\n",
       "      <th></th>\n",
       "      <th>Match_ID</th>\n",
       "      <th>age_at_Scan1</th>\n",
       "      <th>Sex</th>\n",
       "      <th>anat</th>\n",
       "      <th>func</th>\n",
       "      <th>DTI</th>\n",
       "      <th>Scan_Time</th>\n",
       "      <th>Session</th>\n",
       "      <th>ID</th>\n",
       "      <th>Measure:volume</th>\n",
       "      <th>...</th>\n",
       "      <th>rh_superiorparietal_thickness</th>\n",
       "      <th>rh_superiortemporal_thickness</th>\n",
       "      <th>rh_supramarginal_thickness</th>\n",
       "      <th>rh_frontalpole_thickness</th>\n",
       "      <th>rh_temporalpole_thickness</th>\n",
       "      <th>rh_transversetemporal_thickness</th>\n",
       "      <th>rh_insula_thickness</th>\n",
       "      <th>rh_MeanThickness_thickness</th>\n",
       "      <th>BrainSegVolNotVent</th>\n",
       "      <th>eTIV_y</th>\n",
       "    </tr>\n",
       "  </thead>\n",
       "  <tbody>\n",
       "    <tr>\n",
       "      <td>0</td>\n",
       "      <td>25632</td>\n",
       "      <td>20.0</td>\n",
       "      <td>male</td>\n",
       "      <td>1</td>\n",
       "      <td>1.0</td>\n",
       "      <td>1.0</td>\n",
       "      <td>'20-Nov-2011'</td>\n",
       "      <td>1</td>\n",
       "      <td>sub-25632-ses1.long.sub-25632</td>\n",
       "      <td>0</td>\n",
       "      <td>...</td>\n",
       "      <td>2.481</td>\n",
       "      <td>3.017</td>\n",
       "      <td>2.842</td>\n",
       "      <td>2.934</td>\n",
       "      <td>4.204</td>\n",
       "      <td>2.363</td>\n",
       "      <td>3.191</td>\n",
       "      <td>2.68579</td>\n",
       "      <td>1132057.0</td>\n",
       "      <td>1.472476e+06</td>\n",
       "    </tr>\n",
       "  </tbody>\n",
       "</table>\n",
       "<p>1 rows × 149 columns</p>\n",
       "</div>"
      ],
      "text/plain": [
       "   Match_ID  age_at_Scan1   Sex  anat  func  DTI      Scan_Time  Session  \\\n",
       "0     25632          20.0  male     1   1.0  1.0  '20-Nov-2011'        1   \n",
       "\n",
       "                              ID  Measure:volume  ...  \\\n",
       "0  sub-25632-ses1.long.sub-25632               0  ...   \n",
       "\n",
       "   rh_superiorparietal_thickness  rh_superiortemporal_thickness  \\\n",
       "0                          2.481                          3.017   \n",
       "\n",
       "   rh_supramarginal_thickness  rh_frontalpole_thickness  \\\n",
       "0                       2.842                     2.934   \n",
       "\n",
       "   rh_temporalpole_thickness  rh_transversetemporal_thickness  \\\n",
       "0                      4.204                            2.363   \n",
       "\n",
       "   rh_insula_thickness  rh_MeanThickness_thickness  BrainSegVolNotVent  \\\n",
       "0                3.191                     2.68579           1132057.0   \n",
       "\n",
       "         eTIV_y  \n",
       "0  1.472476e+06  \n",
       "\n",
       "[1 rows x 149 columns]"
      ]
     },
     "execution_count": 50,
     "metadata": {},
     "output_type": "execute_result"
    }
   ],
   "source": [
    "get_bl(test_subject)"
   ]
  },
  {
   "cell_type": "code",
   "execution_count": 51,
   "metadata": {},
   "outputs": [],
   "source": [
    "# Compute the number of years between a scan and the first scan.\n",
    "# We use the `dateutil` Python library to parse the dates in the \n",
    "# column `Scan_Time` and to compute relative distances between dates.\n",
    "\n",
    "from dateutil.parser import parse\n",
    "from dateutil.relativedelta import relativedelta\n",
    "\n",
    "def get_age_in_years(scan):\n",
    "    subject = scan.Match_ID\n",
    "    bl_scan = get_bl(subject)\n",
    "    bl_age = bl_scan.age_at_Scan1\n",
    "    \n",
    "    end_date = scan.Scan_Time\n",
    "    if isinstance(end_date, str):\n",
    "        end_date = parse(end_date)\n",
    "    else:\n",
    "        end_date = parse(end_date.values[0])\n",
    "    start_date = parse(bl_scan.Scan_Time.values[0])\n",
    "    \n",
    "    # As the Session 1 age's are rounded to the nearest year we only care about \n",
    "    # the years + months since first scan, not the days.\n",
    "    \n",
    "    difference_in_years = relativedelta(end_date, start_date).years + relativedelta(end_date, start_date).months/12\n",
    "    \n",
    "    return float(bl_age) + float(difference_in_years)"
   ]
  },
  {
   "cell_type": "markdown",
   "metadata": {},
   "source": [
    "Let's try it on our test subject's third scan:"
   ]
  },
  {
   "cell_type": "code",
   "execution_count": 52,
   "metadata": {},
   "outputs": [
    {
     "data": {
      "text/plain": [
       "23.0"
      ]
     },
     "execution_count": 52,
     "metadata": {},
     "output_type": "execute_result"
    }
   ],
   "source": [
    "get_age_in_years(test_subject_scans.loc[test_subject_scans.Session == 3])"
   ]
  },
  {
   "cell_type": "markdown",
   "metadata": {},
   "source": [
    "We add a new column to our data frame:"
   ]
  },
  {
   "cell_type": "code",
   "execution_count": 53,
   "metadata": {},
   "outputs": [],
   "source": [
    "slim_longitudinal.insert(1, 'Age', slim_longitudinal.apply(get_age_in_years, axis=1))"
   ]
  },
  {
   "cell_type": "code",
   "execution_count": 54,
   "metadata": {},
   "outputs": [
    {
     "data": {
      "text/html": [
       "<div>\n",
       "<style scoped>\n",
       "    .dataframe tbody tr th:only-of-type {\n",
       "        vertical-align: middle;\n",
       "    }\n",
       "\n",
       "    .dataframe tbody tr th {\n",
       "        vertical-align: top;\n",
       "    }\n",
       "\n",
       "    .dataframe thead th {\n",
       "        text-align: right;\n",
       "    }\n",
       "</style>\n",
       "<table border=\"1\" class=\"dataframe\">\n",
       "  <thead>\n",
       "    <tr style=\"text-align: right;\">\n",
       "      <th></th>\n",
       "      <th>Match_ID</th>\n",
       "      <th>Age</th>\n",
       "      <th>age_at_Scan1</th>\n",
       "      <th>Sex</th>\n",
       "      <th>anat</th>\n",
       "      <th>func</th>\n",
       "      <th>DTI</th>\n",
       "      <th>Scan_Time</th>\n",
       "      <th>Session</th>\n",
       "      <th>ID</th>\n",
       "      <th>...</th>\n",
       "      <th>rh_superiorparietal_thickness</th>\n",
       "      <th>rh_superiortemporal_thickness</th>\n",
       "      <th>rh_supramarginal_thickness</th>\n",
       "      <th>rh_frontalpole_thickness</th>\n",
       "      <th>rh_temporalpole_thickness</th>\n",
       "      <th>rh_transversetemporal_thickness</th>\n",
       "      <th>rh_insula_thickness</th>\n",
       "      <th>rh_MeanThickness_thickness</th>\n",
       "      <th>BrainSegVolNotVent</th>\n",
       "      <th>eTIV_y</th>\n",
       "    </tr>\n",
       "  </thead>\n",
       "  <tbody>\n",
       "    <tr>\n",
       "      <td>0</td>\n",
       "      <td>25632</td>\n",
       "      <td>20.0</td>\n",
       "      <td>20.0</td>\n",
       "      <td>male</td>\n",
       "      <td>1</td>\n",
       "      <td>1.0</td>\n",
       "      <td>1.0</td>\n",
       "      <td>'20-Nov-2011'</td>\n",
       "      <td>1</td>\n",
       "      <td>sub-25632-ses1.long.sub-25632</td>\n",
       "      <td>...</td>\n",
       "      <td>2.481</td>\n",
       "      <td>3.017</td>\n",
       "      <td>2.842</td>\n",
       "      <td>2.934</td>\n",
       "      <td>4.204</td>\n",
       "      <td>2.363</td>\n",
       "      <td>3.191</td>\n",
       "      <td>2.68579</td>\n",
       "      <td>1132057.0</td>\n",
       "      <td>1.472476e+06</td>\n",
       "    </tr>\n",
       "    <tr>\n",
       "      <td>1</td>\n",
       "      <td>25633</td>\n",
       "      <td>18.0</td>\n",
       "      <td>18.0</td>\n",
       "      <td>female</td>\n",
       "      <td>1</td>\n",
       "      <td>1.0</td>\n",
       "      <td>1.0</td>\n",
       "      <td>'20-Nov-2011'</td>\n",
       "      <td>1</td>\n",
       "      <td>sub-25633-ses1.long.sub-25633</td>\n",
       "      <td>...</td>\n",
       "      <td>2.397</td>\n",
       "      <td>2.894</td>\n",
       "      <td>2.719</td>\n",
       "      <td>3.096</td>\n",
       "      <td>4.169</td>\n",
       "      <td>2.473</td>\n",
       "      <td>3.144</td>\n",
       "      <td>2.64881</td>\n",
       "      <td>1074396.0</td>\n",
       "      <td>1.399950e+06</td>\n",
       "    </tr>\n",
       "    <tr>\n",
       "      <td>2</td>\n",
       "      <td>25635</td>\n",
       "      <td>20.0</td>\n",
       "      <td>20.0</td>\n",
       "      <td>male</td>\n",
       "      <td>1</td>\n",
       "      <td>1.0</td>\n",
       "      <td>1.0</td>\n",
       "      <td>'26-Nov-2011'</td>\n",
       "      <td>1</td>\n",
       "      <td>sub-25635-ses1.long.sub-25635</td>\n",
       "      <td>...</td>\n",
       "      <td>2.502</td>\n",
       "      <td>3.065</td>\n",
       "      <td>2.854</td>\n",
       "      <td>3.061</td>\n",
       "      <td>3.751</td>\n",
       "      <td>2.674</td>\n",
       "      <td>3.330</td>\n",
       "      <td>2.71324</td>\n",
       "      <td>1163072.0</td>\n",
       "      <td>1.528341e+06</td>\n",
       "    </tr>\n",
       "    <tr>\n",
       "      <td>3</td>\n",
       "      <td>25637</td>\n",
       "      <td>21.0</td>\n",
       "      <td>21.0</td>\n",
       "      <td>female</td>\n",
       "      <td>1</td>\n",
       "      <td>1.0</td>\n",
       "      <td>1.0</td>\n",
       "      <td>'03-Apr-2012'</td>\n",
       "      <td>1</td>\n",
       "      <td>sub-25637-ses1.long.sub-25637</td>\n",
       "      <td>...</td>\n",
       "      <td>2.447</td>\n",
       "      <td>2.977</td>\n",
       "      <td>2.816</td>\n",
       "      <td>3.025</td>\n",
       "      <td>3.756</td>\n",
       "      <td>2.637</td>\n",
       "      <td>3.382</td>\n",
       "      <td>2.75153</td>\n",
       "      <td>1198812.0</td>\n",
       "      <td>1.562241e+06</td>\n",
       "    </tr>\n",
       "    <tr>\n",
       "      <td>4</td>\n",
       "      <td>25642</td>\n",
       "      <td>22.0</td>\n",
       "      <td>22.0</td>\n",
       "      <td>female</td>\n",
       "      <td>1</td>\n",
       "      <td>1.0</td>\n",
       "      <td>1.0</td>\n",
       "      <td>'04-Jul-2012'</td>\n",
       "      <td>1</td>\n",
       "      <td>sub-25642-ses1.long.sub-25642</td>\n",
       "      <td>...</td>\n",
       "      <td>2.349</td>\n",
       "      <td>2.908</td>\n",
       "      <td>2.608</td>\n",
       "      <td>2.686</td>\n",
       "      <td>3.680</td>\n",
       "      <td>2.502</td>\n",
       "      <td>3.287</td>\n",
       "      <td>2.59840</td>\n",
       "      <td>1151106.0</td>\n",
       "      <td>1.538673e+06</td>\n",
       "    </tr>\n",
       "  </tbody>\n",
       "</table>\n",
       "<p>5 rows × 150 columns</p>\n",
       "</div>"
      ],
      "text/plain": [
       "   Match_ID   Age  age_at_Scan1     Sex  anat  func  DTI      Scan_Time  \\\n",
       "0     25632  20.0          20.0    male     1   1.0  1.0  '20-Nov-2011'   \n",
       "1     25633  18.0          18.0  female     1   1.0  1.0  '20-Nov-2011'   \n",
       "2     25635  20.0          20.0    male     1   1.0  1.0  '26-Nov-2011'   \n",
       "3     25637  21.0          21.0  female     1   1.0  1.0  '03-Apr-2012'   \n",
       "4     25642  22.0          22.0  female     1   1.0  1.0  '04-Jul-2012'   \n",
       "\n",
       "   Session                             ID  ...  rh_superiorparietal_thickness  \\\n",
       "0        1  sub-25632-ses1.long.sub-25632  ...                          2.481   \n",
       "1        1  sub-25633-ses1.long.sub-25633  ...                          2.397   \n",
       "2        1  sub-25635-ses1.long.sub-25635  ...                          2.502   \n",
       "3        1  sub-25637-ses1.long.sub-25637  ...                          2.447   \n",
       "4        1  sub-25642-ses1.long.sub-25642  ...                          2.349   \n",
       "\n",
       "   rh_superiortemporal_thickness  rh_supramarginal_thickness  \\\n",
       "0                          3.017                       2.842   \n",
       "1                          2.894                       2.719   \n",
       "2                          3.065                       2.854   \n",
       "3                          2.977                       2.816   \n",
       "4                          2.908                       2.608   \n",
       "\n",
       "   rh_frontalpole_thickness  rh_temporalpole_thickness  \\\n",
       "0                     2.934                      4.204   \n",
       "1                     3.096                      4.169   \n",
       "2                     3.061                      3.751   \n",
       "3                     3.025                      3.756   \n",
       "4                     2.686                      3.680   \n",
       "\n",
       "   rh_transversetemporal_thickness  rh_insula_thickness  \\\n",
       "0                            2.363                3.191   \n",
       "1                            2.473                3.144   \n",
       "2                            2.674                3.330   \n",
       "3                            2.637                3.382   \n",
       "4                            2.502                3.287   \n",
       "\n",
       "   rh_MeanThickness_thickness  BrainSegVolNotVent        eTIV_y  \n",
       "0                     2.68579           1132057.0  1.472476e+06  \n",
       "1                     2.64881           1074396.0  1.399950e+06  \n",
       "2                     2.71324           1163072.0  1.528341e+06  \n",
       "3                     2.75153           1198812.0  1.562241e+06  \n",
       "4                     2.59840           1151106.0  1.538673e+06  \n",
       "\n",
       "[5 rows x 150 columns]"
      ]
     },
     "execution_count": 54,
     "metadata": {},
     "output_type": "execute_result"
    }
   ],
   "source": [
    "slim_longitudinal.head()"
   ]
  },
  {
   "cell_type": "markdown",
   "metadata": {},
   "source": [
    "Here's our test subject again:"
   ]
  },
  {
   "cell_type": "code",
   "execution_count": 55,
   "metadata": {},
   "outputs": [
    {
     "data": {
      "text/html": [
       "<div>\n",
       "<style scoped>\n",
       "    .dataframe tbody tr th:only-of-type {\n",
       "        vertical-align: middle;\n",
       "    }\n",
       "\n",
       "    .dataframe tbody tr th {\n",
       "        vertical-align: top;\n",
       "    }\n",
       "\n",
       "    .dataframe thead th {\n",
       "        text-align: right;\n",
       "    }\n",
       "</style>\n",
       "<table border=\"1\" class=\"dataframe\">\n",
       "  <thead>\n",
       "    <tr style=\"text-align: right;\">\n",
       "      <th></th>\n",
       "      <th>Match_ID</th>\n",
       "      <th>Age</th>\n",
       "      <th>age_at_Scan1</th>\n",
       "      <th>Sex</th>\n",
       "      <th>anat</th>\n",
       "      <th>func</th>\n",
       "      <th>DTI</th>\n",
       "      <th>Scan_Time</th>\n",
       "      <th>Session</th>\n",
       "      <th>ID</th>\n",
       "      <th>...</th>\n",
       "      <th>rh_superiorparietal_thickness</th>\n",
       "      <th>rh_superiortemporal_thickness</th>\n",
       "      <th>rh_supramarginal_thickness</th>\n",
       "      <th>rh_frontalpole_thickness</th>\n",
       "      <th>rh_temporalpole_thickness</th>\n",
       "      <th>rh_transversetemporal_thickness</th>\n",
       "      <th>rh_insula_thickness</th>\n",
       "      <th>rh_MeanThickness_thickness</th>\n",
       "      <th>BrainSegVolNotVent</th>\n",
       "      <th>eTIV_y</th>\n",
       "    </tr>\n",
       "  </thead>\n",
       "  <tbody>\n",
       "    <tr>\n",
       "      <td>0</td>\n",
       "      <td>25632</td>\n",
       "      <td>20.000000</td>\n",
       "      <td>20.0</td>\n",
       "      <td>male</td>\n",
       "      <td>1</td>\n",
       "      <td>1.0</td>\n",
       "      <td>1.0</td>\n",
       "      <td>'20-Nov-2011'</td>\n",
       "      <td>1</td>\n",
       "      <td>sub-25632-ses1.long.sub-25632</td>\n",
       "      <td>...</td>\n",
       "      <td>2.481</td>\n",
       "      <td>3.017</td>\n",
       "      <td>2.842</td>\n",
       "      <td>2.934</td>\n",
       "      <td>4.204</td>\n",
       "      <td>2.363</td>\n",
       "      <td>3.191</td>\n",
       "      <td>2.68579</td>\n",
       "      <td>1132057.0</td>\n",
       "      <td>1.472476e+06</td>\n",
       "    </tr>\n",
       "    <tr>\n",
       "      <td>18</td>\n",
       "      <td>25632</td>\n",
       "      <td>21.416667</td>\n",
       "      <td>NaN</td>\n",
       "      <td>male</td>\n",
       "      <td>1</td>\n",
       "      <td>1.0</td>\n",
       "      <td>1.0</td>\n",
       "      <td>'04-May-2013'</td>\n",
       "      <td>2</td>\n",
       "      <td>sub-25632-ses2.long.sub-25632</td>\n",
       "      <td>...</td>\n",
       "      <td>2.422</td>\n",
       "      <td>2.931</td>\n",
       "      <td>2.770</td>\n",
       "      <td>3.043</td>\n",
       "      <td>4.069</td>\n",
       "      <td>2.154</td>\n",
       "      <td>3.184</td>\n",
       "      <td>2.63230</td>\n",
       "      <td>1123829.0</td>\n",
       "      <td>1.472476e+06</td>\n",
       "    </tr>\n",
       "    <tr>\n",
       "      <td>36</td>\n",
       "      <td>25632</td>\n",
       "      <td>23.000000</td>\n",
       "      <td>NaN</td>\n",
       "      <td>male</td>\n",
       "      <td>1</td>\n",
       "      <td>1.0</td>\n",
       "      <td>1.0</td>\n",
       "      <td>'05-Dec-2014'</td>\n",
       "      <td>3</td>\n",
       "      <td>sub-25632-ses3.long.sub-25632</td>\n",
       "      <td>...</td>\n",
       "      <td>2.454</td>\n",
       "      <td>2.962</td>\n",
       "      <td>2.793</td>\n",
       "      <td>2.949</td>\n",
       "      <td>3.996</td>\n",
       "      <td>2.180</td>\n",
       "      <td>3.221</td>\n",
       "      <td>2.63878</td>\n",
       "      <td>1124327.0</td>\n",
       "      <td>1.472476e+06</td>\n",
       "    </tr>\n",
       "  </tbody>\n",
       "</table>\n",
       "<p>3 rows × 150 columns</p>\n",
       "</div>"
      ],
      "text/plain": [
       "    Match_ID        Age  age_at_Scan1   Sex  anat  func  DTI      Scan_Time  \\\n",
       "0      25632  20.000000          20.0  male     1   1.0  1.0  '20-Nov-2011'   \n",
       "18     25632  21.416667           NaN  male     1   1.0  1.0  '04-May-2013'   \n",
       "36     25632  23.000000           NaN  male     1   1.0  1.0  '05-Dec-2014'   \n",
       "\n",
       "    Session                             ID  ...  \\\n",
       "0         1  sub-25632-ses1.long.sub-25632  ...   \n",
       "18        2  sub-25632-ses2.long.sub-25632  ...   \n",
       "36        3  sub-25632-ses3.long.sub-25632  ...   \n",
       "\n",
       "    rh_superiorparietal_thickness  rh_superiortemporal_thickness  \\\n",
       "0                           2.481                          3.017   \n",
       "18                          2.422                          2.931   \n",
       "36                          2.454                          2.962   \n",
       "\n",
       "    rh_supramarginal_thickness  rh_frontalpole_thickness  \\\n",
       "0                        2.842                     2.934   \n",
       "18                       2.770                     3.043   \n",
       "36                       2.793                     2.949   \n",
       "\n",
       "    rh_temporalpole_thickness  rh_transversetemporal_thickness  \\\n",
       "0                       4.204                            2.363   \n",
       "18                      4.069                            2.154   \n",
       "36                      3.996                            2.180   \n",
       "\n",
       "    rh_insula_thickness  rh_MeanThickness_thickness  BrainSegVolNotVent  \\\n",
       "0                 3.191                     2.68579           1132057.0   \n",
       "18                3.184                     2.63230           1123829.0   \n",
       "36                3.221                     2.63878           1124327.0   \n",
       "\n",
       "          eTIV_y  \n",
       "0   1.472476e+06  \n",
       "18  1.472476e+06  \n",
       "36  1.472476e+06  \n",
       "\n",
       "[3 rows x 150 columns]"
      ]
     },
     "execution_count": 55,
     "metadata": {},
     "output_type": "execute_result"
    }
   ],
   "source": [
    "slim_longitudinal.loc[slim_longitudinal.Match_ID == test_subject]"
   ]
  },
  {
   "cell_type": "markdown",
   "metadata": {},
   "source": [
    "We use our above random forest setup to produce some predictions for the longitudinal subjects:"
   ]
  },
  {
   "cell_type": "code",
   "execution_count": 56,
   "metadata": {},
   "outputs": [],
   "source": [
    "long_X_test = slim_longitudinal.drop(columns=['Match_ID', 'age_at_Scan1', 'Age', 'Sex', 'anat', \n",
    "                                            'func', 'DTI', 'Scan_Time', 'Session', 'ID', \n",
    "                                            'lh.aparc.thickness', 'rh.aparc.thickness'])\n",
    "\n",
    "y_long = slim_longitudinal.Age"
   ]
  },
  {
   "cell_type": "code",
   "execution_count": 57,
   "metadata": {},
   "outputs": [],
   "source": [
    "X_long = X.drop(columns=['SurfaceHoles', 'lhSurfaceHoles', 'rhSurfaceHoles'])"
   ]
  },
  {
   "cell_type": "code",
   "execution_count": 58,
   "metadata": {},
   "outputs": [],
   "source": [
    "X_train_long, X_val_long, y_train, y_val = train_test_split(X_long, y, test_size=0.2, random_state=42)"
   ]
  },
  {
   "cell_type": "code",
   "execution_count": 59,
   "metadata": {},
   "outputs": [],
   "source": [
    "rf = RandomForestRegressor(n_estimators=10, random_state=42, n_jobs=-1)"
   ]
  },
  {
   "cell_type": "code",
   "execution_count": 60,
   "metadata": {},
   "outputs": [
    {
     "data": {
      "text/plain": [
       "RandomForestRegressor(bootstrap=True, criterion='mse', max_depth=None,\n",
       "                      max_features='auto', max_leaf_nodes=None,\n",
       "                      min_impurity_decrease=0.0, min_impurity_split=None,\n",
       "                      min_samples_leaf=1, min_samples_split=2,\n",
       "                      min_weight_fraction_leaf=0.0, n_estimators=10, n_jobs=-1,\n",
       "                      oob_score=False, random_state=42, verbose=0,\n",
       "                      warm_start=False)"
      ]
     },
     "execution_count": 60,
     "metadata": {},
     "output_type": "execute_result"
    }
   ],
   "source": [
    "rf.fit(X_train_long, y_train)"
   ]
  },
  {
   "cell_type": "markdown",
   "metadata": {},
   "source": [
    "We check that we get a similar validation score as before:"
   ]
  },
  {
   "cell_type": "code",
   "execution_count": 61,
   "metadata": {},
   "outputs": [],
   "source": [
    "long_y_val_pred = rf.predict(X_val_long)"
   ]
  },
  {
   "cell_type": "code",
   "execution_count": 62,
   "metadata": {},
   "outputs": [
    {
     "data": {
      "text/plain": [
       "6.138736007300936"
      ]
     },
     "execution_count": 62,
     "metadata": {},
     "output_type": "execute_result"
    }
   ],
   "source": [
    "mean_absolute_error(y_val, long_y_val_pred)"
   ]
  },
  {
   "cell_type": "markdown",
   "metadata": {},
   "source": [
    "Then retrain on the entire data set before making predictions on the test set:"
   ]
  },
  {
   "cell_type": "code",
   "execution_count": 63,
   "metadata": {},
   "outputs": [
    {
     "data": {
      "text/plain": [
       "RandomForestRegressor(bootstrap=True, criterion='mse', max_depth=None,\n",
       "                      max_features='auto', max_leaf_nodes=None,\n",
       "                      min_impurity_decrease=0.0, min_impurity_split=None,\n",
       "                      min_samples_leaf=1, min_samples_split=2,\n",
       "                      min_weight_fraction_leaf=0.0, n_estimators=10, n_jobs=-1,\n",
       "                      oob_score=False, random_state=42, verbose=0,\n",
       "                      warm_start=False)"
      ]
     },
     "execution_count": 63,
     "metadata": {},
     "output_type": "execute_result"
    }
   ],
   "source": [
    "rf.fit(X_long, y)"
   ]
  },
  {
   "cell_type": "code",
   "execution_count": 64,
   "metadata": {},
   "outputs": [],
   "source": [
    "long_y_pred = rf.predict(long_X_test)"
   ]
  },
  {
   "cell_type": "code",
   "execution_count": 65,
   "metadata": {},
   "outputs": [
    {
     "data": {
      "text/plain": [
       "4.739571450300404"
      ]
     },
     "execution_count": 65,
     "metadata": {},
     "output_type": "execute_result"
    }
   ],
   "source": [
    "mean_absolute_error(y_long, long_y_pred)"
   ]
  },
  {
   "cell_type": "markdown",
   "metadata": {},
   "source": [
    "### Plotting the results"
   ]
  },
  {
   "cell_type": "markdown",
   "metadata": {},
   "source": [
    "Insert the predictions into the data frame:"
   ]
  },
  {
   "cell_type": "code",
   "execution_count": 66,
   "metadata": {
    "scrolled": false
   },
   "outputs": [],
   "source": [
    "slim_longitudinal.insert(3, 'BrainAge', long_y_pred)"
   ]
  },
  {
   "cell_type": "code",
   "execution_count": 67,
   "metadata": {},
   "outputs": [
    {
     "data": {
      "text/html": [
       "<div>\n",
       "<style scoped>\n",
       "    .dataframe tbody tr th:only-of-type {\n",
       "        vertical-align: middle;\n",
       "    }\n",
       "\n",
       "    .dataframe tbody tr th {\n",
       "        vertical-align: top;\n",
       "    }\n",
       "\n",
       "    .dataframe thead th {\n",
       "        text-align: right;\n",
       "    }\n",
       "</style>\n",
       "<table border=\"1\" class=\"dataframe\">\n",
       "  <thead>\n",
       "    <tr style=\"text-align: right;\">\n",
       "      <th></th>\n",
       "      <th>Match_ID</th>\n",
       "      <th>Age</th>\n",
       "      <th>age_at_Scan1</th>\n",
       "      <th>BrainAge</th>\n",
       "      <th>Sex</th>\n",
       "      <th>anat</th>\n",
       "      <th>func</th>\n",
       "      <th>DTI</th>\n",
       "      <th>Scan_Time</th>\n",
       "      <th>Session</th>\n",
       "      <th>...</th>\n",
       "      <th>rh_superiorparietal_thickness</th>\n",
       "      <th>rh_superiortemporal_thickness</th>\n",
       "      <th>rh_supramarginal_thickness</th>\n",
       "      <th>rh_frontalpole_thickness</th>\n",
       "      <th>rh_temporalpole_thickness</th>\n",
       "      <th>rh_transversetemporal_thickness</th>\n",
       "      <th>rh_insula_thickness</th>\n",
       "      <th>rh_MeanThickness_thickness</th>\n",
       "      <th>BrainSegVolNotVent</th>\n",
       "      <th>eTIV_y</th>\n",
       "    </tr>\n",
       "  </thead>\n",
       "  <tbody>\n",
       "    <tr>\n",
       "      <td>0</td>\n",
       "      <td>25632</td>\n",
       "      <td>20.0</td>\n",
       "      <td>20.0</td>\n",
       "      <td>21.600000</td>\n",
       "      <td>male</td>\n",
       "      <td>1</td>\n",
       "      <td>1.0</td>\n",
       "      <td>1.0</td>\n",
       "      <td>'20-Nov-2011'</td>\n",
       "      <td>1</td>\n",
       "      <td>...</td>\n",
       "      <td>2.481</td>\n",
       "      <td>3.017</td>\n",
       "      <td>2.842</td>\n",
       "      <td>2.934</td>\n",
       "      <td>4.204</td>\n",
       "      <td>2.363</td>\n",
       "      <td>3.191</td>\n",
       "      <td>2.68579</td>\n",
       "      <td>1132057.0</td>\n",
       "      <td>1.472476e+06</td>\n",
       "    </tr>\n",
       "    <tr>\n",
       "      <td>1</td>\n",
       "      <td>25633</td>\n",
       "      <td>18.0</td>\n",
       "      <td>18.0</td>\n",
       "      <td>24.300000</td>\n",
       "      <td>female</td>\n",
       "      <td>1</td>\n",
       "      <td>1.0</td>\n",
       "      <td>1.0</td>\n",
       "      <td>'20-Nov-2011'</td>\n",
       "      <td>1</td>\n",
       "      <td>...</td>\n",
       "      <td>2.397</td>\n",
       "      <td>2.894</td>\n",
       "      <td>2.719</td>\n",
       "      <td>3.096</td>\n",
       "      <td>4.169</td>\n",
       "      <td>2.473</td>\n",
       "      <td>3.144</td>\n",
       "      <td>2.64881</td>\n",
       "      <td>1074396.0</td>\n",
       "      <td>1.399950e+06</td>\n",
       "    </tr>\n",
       "    <tr>\n",
       "      <td>2</td>\n",
       "      <td>25635</td>\n",
       "      <td>20.0</td>\n",
       "      <td>20.0</td>\n",
       "      <td>23.469815</td>\n",
       "      <td>male</td>\n",
       "      <td>1</td>\n",
       "      <td>1.0</td>\n",
       "      <td>1.0</td>\n",
       "      <td>'26-Nov-2011'</td>\n",
       "      <td>1</td>\n",
       "      <td>...</td>\n",
       "      <td>2.502</td>\n",
       "      <td>3.065</td>\n",
       "      <td>2.854</td>\n",
       "      <td>3.061</td>\n",
       "      <td>3.751</td>\n",
       "      <td>2.674</td>\n",
       "      <td>3.330</td>\n",
       "      <td>2.71324</td>\n",
       "      <td>1163072.0</td>\n",
       "      <td>1.528341e+06</td>\n",
       "    </tr>\n",
       "    <tr>\n",
       "      <td>3</td>\n",
       "      <td>25637</td>\n",
       "      <td>21.0</td>\n",
       "      <td>21.0</td>\n",
       "      <td>26.500000</td>\n",
       "      <td>female</td>\n",
       "      <td>1</td>\n",
       "      <td>1.0</td>\n",
       "      <td>1.0</td>\n",
       "      <td>'03-Apr-2012'</td>\n",
       "      <td>1</td>\n",
       "      <td>...</td>\n",
       "      <td>2.447</td>\n",
       "      <td>2.977</td>\n",
       "      <td>2.816</td>\n",
       "      <td>3.025</td>\n",
       "      <td>3.756</td>\n",
       "      <td>2.637</td>\n",
       "      <td>3.382</td>\n",
       "      <td>2.75153</td>\n",
       "      <td>1198812.0</td>\n",
       "      <td>1.562241e+06</td>\n",
       "    </tr>\n",
       "    <tr>\n",
       "      <td>4</td>\n",
       "      <td>25642</td>\n",
       "      <td>22.0</td>\n",
       "      <td>22.0</td>\n",
       "      <td>21.939630</td>\n",
       "      <td>female</td>\n",
       "      <td>1</td>\n",
       "      <td>1.0</td>\n",
       "      <td>1.0</td>\n",
       "      <td>'04-Jul-2012'</td>\n",
       "      <td>1</td>\n",
       "      <td>...</td>\n",
       "      <td>2.349</td>\n",
       "      <td>2.908</td>\n",
       "      <td>2.608</td>\n",
       "      <td>2.686</td>\n",
       "      <td>3.680</td>\n",
       "      <td>2.502</td>\n",
       "      <td>3.287</td>\n",
       "      <td>2.59840</td>\n",
       "      <td>1151106.0</td>\n",
       "      <td>1.538673e+06</td>\n",
       "    </tr>\n",
       "  </tbody>\n",
       "</table>\n",
       "<p>5 rows × 151 columns</p>\n",
       "</div>"
      ],
      "text/plain": [
       "   Match_ID   Age  age_at_Scan1   BrainAge     Sex  anat  func  DTI  \\\n",
       "0     25632  20.0          20.0  21.600000    male     1   1.0  1.0   \n",
       "1     25633  18.0          18.0  24.300000  female     1   1.0  1.0   \n",
       "2     25635  20.0          20.0  23.469815    male     1   1.0  1.0   \n",
       "3     25637  21.0          21.0  26.500000  female     1   1.0  1.0   \n",
       "4     25642  22.0          22.0  21.939630  female     1   1.0  1.0   \n",
       "\n",
       "       Scan_Time  Session  ... rh_superiorparietal_thickness  \\\n",
       "0  '20-Nov-2011'        1  ...                         2.481   \n",
       "1  '20-Nov-2011'        1  ...                         2.397   \n",
       "2  '26-Nov-2011'        1  ...                         2.502   \n",
       "3  '03-Apr-2012'        1  ...                         2.447   \n",
       "4  '04-Jul-2012'        1  ...                         2.349   \n",
       "\n",
       "   rh_superiortemporal_thickness  rh_supramarginal_thickness  \\\n",
       "0                          3.017                       2.842   \n",
       "1                          2.894                       2.719   \n",
       "2                          3.065                       2.854   \n",
       "3                          2.977                       2.816   \n",
       "4                          2.908                       2.608   \n",
       "\n",
       "   rh_frontalpole_thickness  rh_temporalpole_thickness  \\\n",
       "0                     2.934                      4.204   \n",
       "1                     3.096                      4.169   \n",
       "2                     3.061                      3.751   \n",
       "3                     3.025                      3.756   \n",
       "4                     2.686                      3.680   \n",
       "\n",
       "   rh_transversetemporal_thickness  rh_insula_thickness  \\\n",
       "0                            2.363                3.191   \n",
       "1                            2.473                3.144   \n",
       "2                            2.674                3.330   \n",
       "3                            2.637                3.382   \n",
       "4                            2.502                3.287   \n",
       "\n",
       "   rh_MeanThickness_thickness  BrainSegVolNotVent        eTIV_y  \n",
       "0                     2.68579           1132057.0  1.472476e+06  \n",
       "1                     2.64881           1074396.0  1.399950e+06  \n",
       "2                     2.71324           1163072.0  1.528341e+06  \n",
       "3                     2.75153           1198812.0  1.562241e+06  \n",
       "4                     2.59840           1151106.0  1.538673e+06  \n",
       "\n",
       "[5 rows x 151 columns]"
      ]
     },
     "execution_count": 67,
     "metadata": {},
     "output_type": "execute_result"
    }
   ],
   "source": [
    "slim_longitudinal.head()"
   ]
  },
  {
   "cell_type": "code",
   "execution_count": 68,
   "metadata": {},
   "outputs": [],
   "source": [
    "def plot_subject_preds(subject):\n",
    "    # Get all the actual ages\n",
    "    ages = slim_longitudinal.loc[slim_longitudinal.Match_ID == subject].Age\n",
    "    # Get all the predicted ages\n",
    "    predictions = slim_longitudinal.loc[slim_longitudinal.Match_ID == subject].BrainAge\n",
    "    \n",
    "    plt.scatter(ages,predictions)\n",
    "    plt.title(f\"Subject {subject}\")\n",
    "    plt.xlabel(\"Chronological age\")\n",
    "    plt.ylabel(\"BrainAge\")\n",
    "    plt.show()"
   ]
  },
  {
   "cell_type": "code",
   "execution_count": 69,
   "metadata": {},
   "outputs": [
    {
     "data": {
      "image/png": "[encoded data removed]",
      "text/plain": [
       "<Figure size 432x288 with 1 Axes>"
      ]
     },
     "metadata": {
      "needs_background": "light"
     },
     "output_type": "display_data"
    }
   ],
   "source": [
    "plot_subject_preds(25632)"
   ]
  },
  {
   "cell_type": "code",
   "execution_count": 70,
   "metadata": {
    "scrolled": false
   },
   "outputs": [
    {
     "data": {
      "image/png": "[encoded data removed]",
      "text/plain": [
       "<Figure size 432x288 with 1 Axes>"
      ]
     },
     "metadata": {
      "needs_background": "light"
     },
     "output_type": "display_data"
    },
    {
     "data": {
      "image/png": "[encoded data removed]",
      "text/plain": [
       "<Figure size 432x288 with 1 Axes>"
      ]
     },
     "metadata": {
      "needs_background": "light"
     },
     "output_type": "display_data"
    },
    {
     "data": {
      "image/png": "[encoded data removed]",
      "text/plain": [
       "<Figure size 432x288 with 1 Axes>"
      ]
     },
     "metadata": {
      "needs_background": "light"
     },
     "output_type": "display_data"
    },
    {
     "data": {
      "image/png": "[encoded data removed]",
      "text/plain": [
       "<Figure size 432x288 with 1 Axes>"
      ]
     },
     "metadata": {
      "needs_background": "light"
     },
     "output_type": "display_data"
    },
    {
     "data": {
      "image/png": "[encoded data removed]",
      "text/plain": [
       "<Figure size 432x288 with 1 Axes>"
      ]
     },
     "metadata": {
      "needs_background": "light"
     },
     "output_type": "display_data"
    },
    {
     "data": {
      "image/png": "[encoded data removed]",
      "text/plain": [
       "<Figure size 432x288 with 1 Axes>"
      ]
     },
     "metadata": {
      "needs_background": "light"
     },
     "output_type": "display_data"
    },
    {
     "data": {
      "image/png": "[encoded data removed]",
      "text/plain": [
       "<Figure size 432x288 with 1 Axes>"
      ]
     },
     "metadata": {
      "needs_background": "light"
     },
     "output_type": "display_data"
    },
    {
     "data": {
      "image/png": "[encoded data removed]",
      "text/plain": [
       "<Figure size 432x288 with 1 Axes>"
      ]
     },
     "metadata": {
      "needs_background": "light"
     },
     "output_type": "display_data"
    },
    {
     "data": {
      "image/png": "[encoded data removed]",
      "text/plain": [
       "<Figure size 432x288 with 1 Axes>"
      ]
     },
     "metadata": {
      "needs_background": "light"
     },
     "output_type": "display_data"
    },
    {
     "data": {
      "image/png": "[encoded data removed]",
      "text/plain": [
       "<Figure size 432x288 with 1 Axes>"
      ]
     },
     "metadata": {
      "needs_background": "light"
     },
     "output_type": "display_data"
    },
    {
     "data": {
      "image/png": "[encoded data removed]",
      "text/plain": [
       "<Figure size 432x288 with 1 Axes>"
      ]
     },
     "metadata": {
      "needs_background": "light"
     },
     "output_type": "display_data"
    },
    {
     "data": {
      "image/png": "[encoded data removed]",
      "text/plain": [
       "<Figure size 432x288 with 1 Axes>"
      ]
     },
     "metadata": {
      "needs_background": "light"
     },
     "output_type": "display_data"
    },
    {
     "data": {
      "image/png": "[encoded data removed]",
      "text/plain": [
       "<Figure size 432x288 with 1 Axes>"
      ]
     },
     "metadata": {
      "needs_background": "light"
     },
     "output_type": "display_data"
    },
    {
     "data": {
      "image/png": "[encoded data removed]",
      "text/plain": [
       "<Figure size 432x288 with 1 Axes>"
      ]
     },
     "metadata": {
      "needs_background": "light"
     },
     "output_type": "display_data"
    },
    {
     "data": {
      "image/png": "[encoded data removed]",
      "text/plain": [
       "<Figure size 432x288 with 1 Axes>"
      ]
     },
     "metadata": {
      "needs_background": "light"
     },
     "output_type": "display_data"
    },
    {
     "data": {
      "image/png": "[encoded data removed]",
      "text/plain": [
       "<Figure size 432x288 with 1 Axes>"
      ]
     },
     "metadata": {
      "needs_background": "light"
     },
     "output_type": "display_data"
    },
    {
     "data": {
      "image/png": "[encoded data removed]",
      "text/plain": [
       "<Figure size 432x288 with 1 Axes>"
      ]
     },
     "metadata": {
      "needs_background": "light"
     },
     "output_type": "display_data"
    },
    {
     "data": {
      "image/png": "[encoded data removed]",
      "text/plain": [
       "<Figure size 432x288 with 1 Axes>"
      ]
     },
     "metadata": {
      "needs_background": "light"
     },
     "output_type": "display_data"
    }
   ],
   "source": [
    "for s in long_subject_ids:\n",
    "    plot_subject_preds(s)"
   ]
  }
 ],
 "metadata": {
  "kernelspec": {
   "display_name": "Python 3",
   "language": "python",
   "name": "python3"
  },
  "language_info": {
   "codemirror_mode": {
    "name": "ipython",
    "version": 3
   },
   "file_extension": ".py",
   "mimetype": "text/x-python",
   "name": "python",
   "nbconvert_exporter": "python",
   "pygments_lexer": "ipython3",
   "version": "3.6.9"
  }
 },
 "nbformat": 4,
 "nbformat_minor": 4
}
